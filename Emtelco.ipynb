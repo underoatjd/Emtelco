{
 "cells": [
  {
   "cell_type": "code",
   "execution_count": 175,
   "id": "initial_id",
   "metadata": {
    "collapsed": true,
    "ExecuteTime": {
     "end_time": "2024-01-29T23:30:44.069092800Z",
     "start_time": "2024-01-29T23:30:44.015293900Z"
    }
   },
   "outputs": [
    {
     "data": {
      "text/plain": "                    Fecha  ID de respuesta Nombre del cliente Canal envio  \\\n0 2023-11-16 13:30:31.585                1          cliente 1       email   \n1 2023-11-16 14:54:57.335                2          cliente 2       email   \n2 2023-11-16 16:44:16.894                3          cliente 3       email   \n3 2023-11-17 16:47:18.235                4          cliente 4       email   \n4 2023-11-21 09:07:35.654                5          cliente 5       email   \n\n  Idioma del usuario  \\\n0                 ES   \n1                 ES   \n2                 ES   \n3                 ES   \n4                 ES   \n\n   importancia_conocimiento_de_marcas: donde 1 es lo mas importante y 4 no lo consideras importante  \\\n0                                                2.0                                                  \n1                                                3.0                                                  \n2                                                1.0                                                  \n3                                                2.0                                                  \n4                                                2.0                                                  \n\n   importancia experiencia cliente: donde 1 es lo mas importante y 4 no lo consideras importante  \\\n0                                                3.0                                               \n1                                                1.0                                               \n2                                                2.0                                               \n3                                                1.0                                               \n4                                                3.0                                               \n\n   importancia talento humano: donde 1 es lo mas importante y 4 no lo consideras importante  \\\n0                                                4.0                                          \n1                                                2.0                                          \n2                                                4.0                                          \n3                                                3.0                                          \n4                                                1.0                                          \n\n   importancia tecnologia e innivación: donde 1 es lo mas importante y 4 no lo consideras importante  \\\n0                                                1.0                                                   \n1                                                4.0                                                   \n2                                                3.0                                                   \n3                                                4.0                                                   \n4                                                4.0                                                   \n\n                  amplia la importancia de atributos  ...  \\\n0                           amabilidad y comprension  ...   \n1                                           cercania  ...   \n2                                        puntualidad  ...   \n3                                  servicios baratos  ...   \n4  cercania, calidez, centrado en el cliente, ama...  ...   \n\n  Qué tan satisfecho estás con las alternativas dadas para tu solución?  \\\n0                                          Muy bueno                      \n1                                          Muy bueno                      \n2                                          Muy bueno                      \n3                                          Muy bueno                      \n4                                          Muy bueno                      \n\n  Qué tan satisfecho estás con los tiempo de solución ?  \\\n0                                          Muy bueno      \n1                                          Muy bueno      \n2                                              Bueno      \n3                                              Bueno      \n4                                          Muy bueno      \n\n  Cómo calificas la importancia que  le damos a nuestros clientes?  \\\n0                                          Muy bueno                 \n1                                          Muy bueno                 \n2                                              Bueno                 \n3                                              Bueno                 \n4                                              Bueno                 \n\n  Qué tan fácil fue obtener una solución?  \\\n0                              Muy bueno    \n1                              Muy bueno    \n2                                 Regular   \n3                              Muy bueno    \n4                              Muy bueno    \n\n  Que tan satisfecho estás con el conocimiento de nuestro personal?  \\\n0                                              Bueno                  \n1                                         Muy bueno                   \n2                                              Bueno                  \n3                                              Bueno                  \n4                                              Bueno                  \n\n  En la misma escala de 0 a 10, en caso que necesites nuevos servicios de consultoria, ¿Qué tan probable es que consideres a nuestra empresa como tu primera opción ? - Grupo  \\\n0                                           Promotor                                                                                                                            \n1                                           Promotor                                                                                                                            \n2                                             Pasivo                                                                                                                            \n3                                             Pasivo                                                                                                                            \n4                                           Promotor                                                                                                                            \n\n  En la misma escala de 0 a 10, en caso que necesites nuevos servicios de consultoria, ¿Qué tan probable es que consideres a nuestra empresa como tu primera opción ?  \\\n0                                                  9                                                                                                                    \n1                                                 10                                                                                                                    \n2                                                  8                                                                                                                    \n3                                                  8                                                                                                                    \n4                                                  9                                                                                                                    \n\n  NPS: escala del 0 al 10, donde 0 es no lo recomendaría y 10 definitivamente sí lo recomendaria. Dinos qué tan probable es que recomiendes nuestros servicios  \\\n0                                           Promotor                                                                                                             \n1                                           Promotor                                                                                                             \n2                                             Pasivo                                                                                                             \n3                                             Pasivo                                                                                                             \n4                                           Promotor                                                                                                             \n\n   NPS: En una escala de 0 a 10, donde 0 es la calificación más baja y 10 la más alta, ¿Qué tan probable es que recomiendes nuestros servicios?  \\\n0                                                 10                                                                                              \n1                                                 10                                                                                              \n2                                                  7                                                                                              \n3                                                  8                                                                                              \n4                                                  9                                                                                              \n\n              Cuéntanos el motivo de tu calificación  \n0  Tienen las competencias y capacidades necesari...  \n1  siempre dispuestos a brindar la mejor asesoria...  \n2                                                NaN  \n3                  revisar relacion precio y calidad  \n4                                               bien  \n\n[5 rows x 22 columns]",
      "text/html": "<div>\n<style scoped>\n    .dataframe tbody tr th:only-of-type {\n        vertical-align: middle;\n    }\n\n    .dataframe tbody tr th {\n        vertical-align: top;\n    }\n\n    .dataframe thead th {\n        text-align: right;\n    }\n</style>\n<table border=\"1\" class=\"dataframe\">\n  <thead>\n    <tr style=\"text-align: right;\">\n      <th></th>\n      <th>Fecha</th>\n      <th>ID de respuesta</th>\n      <th>Nombre del cliente</th>\n      <th>Canal envio</th>\n      <th>Idioma del usuario</th>\n      <th>importancia_conocimiento_de_marcas: donde 1 es lo mas importante y 4 no lo consideras importante</th>\n      <th>importancia experiencia cliente: donde 1 es lo mas importante y 4 no lo consideras importante</th>\n      <th>importancia talento humano: donde 1 es lo mas importante y 4 no lo consideras importante</th>\n      <th>importancia tecnologia e innivación: donde 1 es lo mas importante y 4 no lo consideras importante</th>\n      <th>amplia la importancia de atributos</th>\n      <th>...</th>\n      <th>Qué tan satisfecho estás con las alternativas dadas para tu solución?</th>\n      <th>Qué tan satisfecho estás con los tiempo de solución ?</th>\n      <th>Cómo calificas la importancia que  le damos a nuestros clientes?</th>\n      <th>Qué tan fácil fue obtener una solución?</th>\n      <th>Que tan satisfecho estás con el conocimiento de nuestro personal?</th>\n      <th>En la misma escala de 0 a 10, en caso que necesites nuevos servicios de consultoria, ¿Qué tan probable es que consideres a nuestra empresa como tu primera opción ? - Grupo</th>\n      <th>En la misma escala de 0 a 10, en caso que necesites nuevos servicios de consultoria, ¿Qué tan probable es que consideres a nuestra empresa como tu primera opción ?</th>\n      <th>NPS: escala del 0 al 10, donde 0 es no lo recomendaría y 10 definitivamente sí lo recomendaria. Dinos qué tan probable es que recomiendes nuestros servicios</th>\n      <th>NPS: En una escala de 0 a 10, donde 0 es la calificación más baja y 10 la más alta, ¿Qué tan probable es que recomiendes nuestros servicios?</th>\n      <th>Cuéntanos el motivo de tu calificación</th>\n    </tr>\n  </thead>\n  <tbody>\n    <tr>\n      <th>0</th>\n      <td>2023-11-16 13:30:31.585</td>\n      <td>1</td>\n      <td>cliente 1</td>\n      <td>email</td>\n      <td>ES</td>\n      <td>2.0</td>\n      <td>3.0</td>\n      <td>4.0</td>\n      <td>1.0</td>\n      <td>amabilidad y comprension</td>\n      <td>...</td>\n      <td>Muy bueno</td>\n      <td>Muy bueno</td>\n      <td>Muy bueno</td>\n      <td>Muy bueno</td>\n      <td>Bueno</td>\n      <td>Promotor</td>\n      <td>9</td>\n      <td>Promotor</td>\n      <td>10</td>\n      <td>Tienen las competencias y capacidades necesari...</td>\n    </tr>\n    <tr>\n      <th>1</th>\n      <td>2023-11-16 14:54:57.335</td>\n      <td>2</td>\n      <td>cliente 2</td>\n      <td>email</td>\n      <td>ES</td>\n      <td>3.0</td>\n      <td>1.0</td>\n      <td>2.0</td>\n      <td>4.0</td>\n      <td>cercania</td>\n      <td>...</td>\n      <td>Muy bueno</td>\n      <td>Muy bueno</td>\n      <td>Muy bueno</td>\n      <td>Muy bueno</td>\n      <td>Muy bueno</td>\n      <td>Promotor</td>\n      <td>10</td>\n      <td>Promotor</td>\n      <td>10</td>\n      <td>siempre dispuestos a brindar la mejor asesoria...</td>\n    </tr>\n    <tr>\n      <th>2</th>\n      <td>2023-11-16 16:44:16.894</td>\n      <td>3</td>\n      <td>cliente 3</td>\n      <td>email</td>\n      <td>ES</td>\n      <td>1.0</td>\n      <td>2.0</td>\n      <td>4.0</td>\n      <td>3.0</td>\n      <td>puntualidad</td>\n      <td>...</td>\n      <td>Muy bueno</td>\n      <td>Bueno</td>\n      <td>Bueno</td>\n      <td>Regular</td>\n      <td>Bueno</td>\n      <td>Pasivo</td>\n      <td>8</td>\n      <td>Pasivo</td>\n      <td>7</td>\n      <td>NaN</td>\n    </tr>\n    <tr>\n      <th>3</th>\n      <td>2023-11-17 16:47:18.235</td>\n      <td>4</td>\n      <td>cliente 4</td>\n      <td>email</td>\n      <td>ES</td>\n      <td>2.0</td>\n      <td>1.0</td>\n      <td>3.0</td>\n      <td>4.0</td>\n      <td>servicios baratos</td>\n      <td>...</td>\n      <td>Muy bueno</td>\n      <td>Bueno</td>\n      <td>Bueno</td>\n      <td>Muy bueno</td>\n      <td>Bueno</td>\n      <td>Pasivo</td>\n      <td>8</td>\n      <td>Pasivo</td>\n      <td>8</td>\n      <td>revisar relacion precio y calidad</td>\n    </tr>\n    <tr>\n      <th>4</th>\n      <td>2023-11-21 09:07:35.654</td>\n      <td>5</td>\n      <td>cliente 5</td>\n      <td>email</td>\n      <td>ES</td>\n      <td>2.0</td>\n      <td>3.0</td>\n      <td>1.0</td>\n      <td>4.0</td>\n      <td>cercania, calidez, centrado en el cliente, ama...</td>\n      <td>...</td>\n      <td>Muy bueno</td>\n      <td>Muy bueno</td>\n      <td>Bueno</td>\n      <td>Muy bueno</td>\n      <td>Bueno</td>\n      <td>Promotor</td>\n      <td>9</td>\n      <td>Promotor</td>\n      <td>9</td>\n      <td>bien</td>\n    </tr>\n  </tbody>\n</table>\n<p>5 rows × 22 columns</p>\n</div>"
     },
     "execution_count": 175,
     "metadata": {},
     "output_type": "execute_result"
    }
   ],
   "source": [
    "# Pandas para lectura de archivo\n",
    "import pandas as pd\n",
    "# Carga el archivo CSV en un DataFrame\n",
    "datos = pd.read_excel('bd_encuesta.xlsx')\n",
    "datos.head()"
   ]
  },
  {
   "cell_type": "code",
   "outputs": [
    {
     "data": {
      "text/plain": "                               Fecha  ID de respuesta  \\\ncount                             70        70.000000   \nmean   2023-11-30 18:49:29.692642560        35.500000   \nmin       2023-11-16 13:30:31.585000         1.000000   \n25%    2023-11-23 15:16:25.674750208        18.250000   \n50%    2023-11-28 18:38:49.268500224        35.500000   \n75%    2023-12-05 05:22:21.408499968        52.750000   \nmax       2023-12-24 19:05:55.920000        70.000000   \nstd                              NaN        20.351085   \n\n       importancia_conocimiento_de_marcas: donde 1 es lo mas importante y 4 no lo consideras importante  \\\ncount                                          69.000000                                                  \nmean                                            2.188406                                                  \nmin                                             1.000000                                                  \n25%                                             1.000000                                                  \n50%                                             2.000000                                                  \n75%                                             3.000000                                                  \nmax                                             4.000000                                                  \nstd                                             1.088379                                                  \n\n       importancia experiencia cliente: donde 1 es lo mas importante y 4 no lo consideras importante  \\\ncount                                          69.000000                                               \nmean                                            1.956522                                               \nmin                                             1.000000                                               \n25%                                             1.000000                                               \n50%                                             2.000000                                               \n75%                                             3.000000                                               \nmax                                             4.000000                                               \nstd                                             1.035187                                               \n\n       importancia talento humano: donde 1 es lo mas importante y 4 no lo consideras importante  \\\ncount                                          69.000000                                          \nmean                                            2.739130                                          \nmin                                             1.000000                                          \n25%                                             2.000000                                          \n50%                                             3.000000                                          \n75%                                             3.000000                                          \nmax                                             4.000000                                          \nstd                                             1.009545                                          \n\n       importancia tecnologia e innivación: donde 1 es lo mas importante y 4 no lo consideras importante  \\\ncount                                          69.000000                                                   \nmean                                            3.115942                                                   \nmin                                             1.000000                                                   \n25%                                             2.000000                                                   \n50%                                             3.000000                                                   \n75%                                             4.000000                                                   \nmax                                             4.000000                                                   \nstd                                             0.978237                                                   \n\n       En la misma escala de 0 a 10, en caso que necesites nuevos servicios de consultoria, ¿Qué tan probable es que consideres a nuestra empresa como tu primera opción ?  \\\ncount                                          70.000000                                                                                                                     \nmean                                            8.742857                                                                                                                     \nmin                                             1.000000                                                                                                                     \n25%                                             8.000000                                                                                                                     \n50%                                             9.000000                                                                                                                     \n75%                                            10.000000                                                                                                                     \nmax                                            10.000000                                                                                                                     \nstd                                             1.799241                                                                                                                     \n\n       NPS: En una escala de 0 a 10, donde 0 es la calificación más baja y 10 la más alta, ¿Qué tan probable es que recomiendes nuestros servicios?  \ncount                                          70.000000                                                                                             \nmean                                            8.657143                                                                                             \nmin                                             1.000000                                                                                             \n25%                                             8.250000                                                                                             \n50%                                             9.000000                                                                                             \n75%                                            10.000000                                                                                             \nmax                                            10.000000                                                                                             \nstd                                             2.125659                                                                                             ",
      "text/html": "<div>\n<style scoped>\n    .dataframe tbody tr th:only-of-type {\n        vertical-align: middle;\n    }\n\n    .dataframe tbody tr th {\n        vertical-align: top;\n    }\n\n    .dataframe thead th {\n        text-align: right;\n    }\n</style>\n<table border=\"1\" class=\"dataframe\">\n  <thead>\n    <tr style=\"text-align: right;\">\n      <th></th>\n      <th>Fecha</th>\n      <th>ID de respuesta</th>\n      <th>importancia_conocimiento_de_marcas: donde 1 es lo mas importante y 4 no lo consideras importante</th>\n      <th>importancia experiencia cliente: donde 1 es lo mas importante y 4 no lo consideras importante</th>\n      <th>importancia talento humano: donde 1 es lo mas importante y 4 no lo consideras importante</th>\n      <th>importancia tecnologia e innivación: donde 1 es lo mas importante y 4 no lo consideras importante</th>\n      <th>En la misma escala de 0 a 10, en caso que necesites nuevos servicios de consultoria, ¿Qué tan probable es que consideres a nuestra empresa como tu primera opción ?</th>\n      <th>NPS: En una escala de 0 a 10, donde 0 es la calificación más baja y 10 la más alta, ¿Qué tan probable es que recomiendes nuestros servicios?</th>\n    </tr>\n  </thead>\n  <tbody>\n    <tr>\n      <th>count</th>\n      <td>70</td>\n      <td>70.000000</td>\n      <td>69.000000</td>\n      <td>69.000000</td>\n      <td>69.000000</td>\n      <td>69.000000</td>\n      <td>70.000000</td>\n      <td>70.000000</td>\n    </tr>\n    <tr>\n      <th>mean</th>\n      <td>2023-11-30 18:49:29.692642560</td>\n      <td>35.500000</td>\n      <td>2.188406</td>\n      <td>1.956522</td>\n      <td>2.739130</td>\n      <td>3.115942</td>\n      <td>8.742857</td>\n      <td>8.657143</td>\n    </tr>\n    <tr>\n      <th>min</th>\n      <td>2023-11-16 13:30:31.585000</td>\n      <td>1.000000</td>\n      <td>1.000000</td>\n      <td>1.000000</td>\n      <td>1.000000</td>\n      <td>1.000000</td>\n      <td>1.000000</td>\n      <td>1.000000</td>\n    </tr>\n    <tr>\n      <th>25%</th>\n      <td>2023-11-23 15:16:25.674750208</td>\n      <td>18.250000</td>\n      <td>1.000000</td>\n      <td>1.000000</td>\n      <td>2.000000</td>\n      <td>2.000000</td>\n      <td>8.000000</td>\n      <td>8.250000</td>\n    </tr>\n    <tr>\n      <th>50%</th>\n      <td>2023-11-28 18:38:49.268500224</td>\n      <td>35.500000</td>\n      <td>2.000000</td>\n      <td>2.000000</td>\n      <td>3.000000</td>\n      <td>3.000000</td>\n      <td>9.000000</td>\n      <td>9.000000</td>\n    </tr>\n    <tr>\n      <th>75%</th>\n      <td>2023-12-05 05:22:21.408499968</td>\n      <td>52.750000</td>\n      <td>3.000000</td>\n      <td>3.000000</td>\n      <td>3.000000</td>\n      <td>4.000000</td>\n      <td>10.000000</td>\n      <td>10.000000</td>\n    </tr>\n    <tr>\n      <th>max</th>\n      <td>2023-12-24 19:05:55.920000</td>\n      <td>70.000000</td>\n      <td>4.000000</td>\n      <td>4.000000</td>\n      <td>4.000000</td>\n      <td>4.000000</td>\n      <td>10.000000</td>\n      <td>10.000000</td>\n    </tr>\n    <tr>\n      <th>std</th>\n      <td>NaN</td>\n      <td>20.351085</td>\n      <td>1.088379</td>\n      <td>1.035187</td>\n      <td>1.009545</td>\n      <td>0.978237</td>\n      <td>1.799241</td>\n      <td>2.125659</td>\n    </tr>\n  </tbody>\n</table>\n</div>"
     },
     "execution_count": 176,
     "metadata": {},
     "output_type": "execute_result"
    }
   ],
   "source": [
    "datos.describe()"
   ],
   "metadata": {
    "collapsed": false,
    "ExecuteTime": {
     "end_time": "2024-01-29T23:30:44.110935700Z",
     "start_time": "2024-01-29T23:30:44.074297200Z"
    }
   },
   "id": "fe872149087a1a87",
   "execution_count": 176
  },
  {
   "cell_type": "code",
   "outputs": [
    {
     "data": {
      "text/plain": "                     Fecha  id Nombre del cliente Canal envio  \\\n0  2023-11-16 13:30:31.585   1          cliente 1       email   \n1  2023-11-16 14:54:57.335   2          cliente 2       email   \n2  2023-11-16 16:44:16.894   3          cliente 3       email   \n3  2023-11-17 16:47:18.235   4          cliente 4       email   \n4  2023-11-21 09:07:35.654   5          cliente 5       email   \n..                     ...  ..                ...         ...   \n65 2023-12-21 19:05:56.000  66         cliente 66       email   \n66 2023-12-21 19:05:55.920  67         cliente 67       email   \n67 2023-12-22 19:05:55.920  68         cliente 68       email   \n68 2023-12-23 19:05:55.920  69         cliente 69       email   \n69 2023-12-24 19:05:55.920  70         cliente 70       email   \n\n   Idioma del usuario  marcas  experiencia_cliente  talento_humano  \\\n0                  ES     2.0                  3.0             4.0   \n1                  ES     3.0                  1.0             2.0   \n2                  ES     1.0                  2.0             4.0   \n3                  ES     2.0                  1.0             3.0   \n4                  ES     2.0                  3.0             1.0   \n..                ...     ...                  ...             ...   \n65                 ES     1.0                  3.0             2.0   \n66                 ES     4.0                  1.0             3.0   \n67                 ES     3.0                  4.0             2.0   \n68                 ES     3.0                  4.0             2.0   \n69                 ES     2.0                  4.0             1.0   \n\n    innovación                 amplia la importancia de atributos  ...  \\\n0          1.0                           amabilidad y comprension  ...   \n1          4.0                                           cercania  ...   \n2          3.0                                        puntualidad  ...   \n3          4.0                                  servicios baratos  ...   \n4          4.0  cercania, calidez, centrado en el cliente, ama...  ...   \n..         ...                                                ...  ...   \n65         4.0  todo es importante, pero creo que ustedes tien...  ...   \n66         2.0   si no conoces un negocio no puedes ofrecer mucho  ...   \n67         1.0  es importante sentorse entendido y acompañado ...  ...   \n68         1.0  el mundo se mueve muy rápido y hay que adaptar...  ...   \n69         3.0  creo que todos son importantes pero si me pone...  ...   \n\n   satisfechosolucion satisfechotiempo importancia_clientes solucion_facil  \\\n0           Muy bueno        Muy bueno            Muy bueno     Muy bueno    \n1           Muy bueno        Muy bueno            Muy bueno     Muy bueno    \n2           Muy bueno            Bueno                Bueno        Regular   \n3           Muy bueno            Bueno                Bueno     Muy bueno    \n4           Muy bueno        Muy bueno                Bueno     Muy bueno    \n..                ...              ...                  ...            ...   \n65               Malo             Malo                 Malo           Malo   \n66               Malo             Malo                 Malo           Malo   \n67          Muy bueno          Regular                Bueno          Bueno   \n68          Muy bueno          Regular                Bueno          Bueno   \n69            Regular          Regular              Regular        Regular   \n\n   conocimiento_personal primera_opcion nuevos_servicios     NPSPPD  NPS  \\\n0                  Bueno       Promotor                9   Promotor   10   \n1             Muy bueno        Promotor               10   Promotor   10   \n2                  Bueno         Pasivo                8     Pasivo    7   \n3                  Bueno         Pasivo                8     Pasivo    8   \n4                  Bueno       Promotor                9   Promotor    9   \n..                   ...            ...              ...        ...  ...   \n65                  Malo      Detractor                1  Detractor    1   \n66                  Malo      Detractor                4  Detractor    3   \n67                 Bueno       Promotor                9   Promotor    9   \n68            Muy bueno        Promotor                9   Promotor    9   \n69               Regular         Pasivo                7  Detractor    5   \n\n               Cuéntanos el motivo de tu calificación  \n0   Tienen las competencias y capacidades necesari...  \n1   siempre dispuestos a brindar la mejor asesoria...  \n2                                                 NaN  \n3                   revisar relacion precio y calidad  \n4                                                bien  \n..                                                ...  \n65  Son muy demorados y al final entregaron result...  \n66  el costo es muy alto para el valor que entrega...  \n67  Son muy bueno, pero si considero deberiían mej...  \n68  Sus resultados y recomendaciones fueron muy ac...  \n69  no me terminan de convencer. Creo que la perso...  \n\n[70 rows x 22 columns]",
      "text/html": "<div>\n<style scoped>\n    .dataframe tbody tr th:only-of-type {\n        vertical-align: middle;\n    }\n\n    .dataframe tbody tr th {\n        vertical-align: top;\n    }\n\n    .dataframe thead th {\n        text-align: right;\n    }\n</style>\n<table border=\"1\" class=\"dataframe\">\n  <thead>\n    <tr style=\"text-align: right;\">\n      <th></th>\n      <th>Fecha</th>\n      <th>id</th>\n      <th>Nombre del cliente</th>\n      <th>Canal envio</th>\n      <th>Idioma del usuario</th>\n      <th>marcas</th>\n      <th>experiencia_cliente</th>\n      <th>talento_humano</th>\n      <th>innovación</th>\n      <th>amplia la importancia de atributos</th>\n      <th>...</th>\n      <th>satisfechosolucion</th>\n      <th>satisfechotiempo</th>\n      <th>importancia_clientes</th>\n      <th>solucion_facil</th>\n      <th>conocimiento_personal</th>\n      <th>primera_opcion</th>\n      <th>nuevos_servicios</th>\n      <th>NPSPPD</th>\n      <th>NPS</th>\n      <th>Cuéntanos el motivo de tu calificación</th>\n    </tr>\n  </thead>\n  <tbody>\n    <tr>\n      <th>0</th>\n      <td>2023-11-16 13:30:31.585</td>\n      <td>1</td>\n      <td>cliente 1</td>\n      <td>email</td>\n      <td>ES</td>\n      <td>2.0</td>\n      <td>3.0</td>\n      <td>4.0</td>\n      <td>1.0</td>\n      <td>amabilidad y comprension</td>\n      <td>...</td>\n      <td>Muy bueno</td>\n      <td>Muy bueno</td>\n      <td>Muy bueno</td>\n      <td>Muy bueno</td>\n      <td>Bueno</td>\n      <td>Promotor</td>\n      <td>9</td>\n      <td>Promotor</td>\n      <td>10</td>\n      <td>Tienen las competencias y capacidades necesari...</td>\n    </tr>\n    <tr>\n      <th>1</th>\n      <td>2023-11-16 14:54:57.335</td>\n      <td>2</td>\n      <td>cliente 2</td>\n      <td>email</td>\n      <td>ES</td>\n      <td>3.0</td>\n      <td>1.0</td>\n      <td>2.0</td>\n      <td>4.0</td>\n      <td>cercania</td>\n      <td>...</td>\n      <td>Muy bueno</td>\n      <td>Muy bueno</td>\n      <td>Muy bueno</td>\n      <td>Muy bueno</td>\n      <td>Muy bueno</td>\n      <td>Promotor</td>\n      <td>10</td>\n      <td>Promotor</td>\n      <td>10</td>\n      <td>siempre dispuestos a brindar la mejor asesoria...</td>\n    </tr>\n    <tr>\n      <th>2</th>\n      <td>2023-11-16 16:44:16.894</td>\n      <td>3</td>\n      <td>cliente 3</td>\n      <td>email</td>\n      <td>ES</td>\n      <td>1.0</td>\n      <td>2.0</td>\n      <td>4.0</td>\n      <td>3.0</td>\n      <td>puntualidad</td>\n      <td>...</td>\n      <td>Muy bueno</td>\n      <td>Bueno</td>\n      <td>Bueno</td>\n      <td>Regular</td>\n      <td>Bueno</td>\n      <td>Pasivo</td>\n      <td>8</td>\n      <td>Pasivo</td>\n      <td>7</td>\n      <td>NaN</td>\n    </tr>\n    <tr>\n      <th>3</th>\n      <td>2023-11-17 16:47:18.235</td>\n      <td>4</td>\n      <td>cliente 4</td>\n      <td>email</td>\n      <td>ES</td>\n      <td>2.0</td>\n      <td>1.0</td>\n      <td>3.0</td>\n      <td>4.0</td>\n      <td>servicios baratos</td>\n      <td>...</td>\n      <td>Muy bueno</td>\n      <td>Bueno</td>\n      <td>Bueno</td>\n      <td>Muy bueno</td>\n      <td>Bueno</td>\n      <td>Pasivo</td>\n      <td>8</td>\n      <td>Pasivo</td>\n      <td>8</td>\n      <td>revisar relacion precio y calidad</td>\n    </tr>\n    <tr>\n      <th>4</th>\n      <td>2023-11-21 09:07:35.654</td>\n      <td>5</td>\n      <td>cliente 5</td>\n      <td>email</td>\n      <td>ES</td>\n      <td>2.0</td>\n      <td>3.0</td>\n      <td>1.0</td>\n      <td>4.0</td>\n      <td>cercania, calidez, centrado en el cliente, ama...</td>\n      <td>...</td>\n      <td>Muy bueno</td>\n      <td>Muy bueno</td>\n      <td>Bueno</td>\n      <td>Muy bueno</td>\n      <td>Bueno</td>\n      <td>Promotor</td>\n      <td>9</td>\n      <td>Promotor</td>\n      <td>9</td>\n      <td>bien</td>\n    </tr>\n    <tr>\n      <th>...</th>\n      <td>...</td>\n      <td>...</td>\n      <td>...</td>\n      <td>...</td>\n      <td>...</td>\n      <td>...</td>\n      <td>...</td>\n      <td>...</td>\n      <td>...</td>\n      <td>...</td>\n      <td>...</td>\n      <td>...</td>\n      <td>...</td>\n      <td>...</td>\n      <td>...</td>\n      <td>...</td>\n      <td>...</td>\n      <td>...</td>\n      <td>...</td>\n      <td>...</td>\n      <td>...</td>\n    </tr>\n    <tr>\n      <th>65</th>\n      <td>2023-12-21 19:05:56.000</td>\n      <td>66</td>\n      <td>cliente 66</td>\n      <td>email</td>\n      <td>ES</td>\n      <td>1.0</td>\n      <td>3.0</td>\n      <td>2.0</td>\n      <td>4.0</td>\n      <td>todo es importante, pero creo que ustedes tien...</td>\n      <td>...</td>\n      <td>Malo</td>\n      <td>Malo</td>\n      <td>Malo</td>\n      <td>Malo</td>\n      <td>Malo</td>\n      <td>Detractor</td>\n      <td>1</td>\n      <td>Detractor</td>\n      <td>1</td>\n      <td>Son muy demorados y al final entregaron result...</td>\n    </tr>\n    <tr>\n      <th>66</th>\n      <td>2023-12-21 19:05:55.920</td>\n      <td>67</td>\n      <td>cliente 67</td>\n      <td>email</td>\n      <td>ES</td>\n      <td>4.0</td>\n      <td>1.0</td>\n      <td>3.0</td>\n      <td>2.0</td>\n      <td>si no conoces un negocio no puedes ofrecer mucho</td>\n      <td>...</td>\n      <td>Malo</td>\n      <td>Malo</td>\n      <td>Malo</td>\n      <td>Malo</td>\n      <td>Malo</td>\n      <td>Detractor</td>\n      <td>4</td>\n      <td>Detractor</td>\n      <td>3</td>\n      <td>el costo es muy alto para el valor que entrega...</td>\n    </tr>\n    <tr>\n      <th>67</th>\n      <td>2023-12-22 19:05:55.920</td>\n      <td>68</td>\n      <td>cliente 68</td>\n      <td>email</td>\n      <td>ES</td>\n      <td>3.0</td>\n      <td>4.0</td>\n      <td>2.0</td>\n      <td>1.0</td>\n      <td>es importante sentorse entendido y acompañado ...</td>\n      <td>...</td>\n      <td>Muy bueno</td>\n      <td>Regular</td>\n      <td>Bueno</td>\n      <td>Bueno</td>\n      <td>Bueno</td>\n      <td>Promotor</td>\n      <td>9</td>\n      <td>Promotor</td>\n      <td>9</td>\n      <td>Son muy bueno, pero si considero deberiían mej...</td>\n    </tr>\n    <tr>\n      <th>68</th>\n      <td>2023-12-23 19:05:55.920</td>\n      <td>69</td>\n      <td>cliente 69</td>\n      <td>email</td>\n      <td>ES</td>\n      <td>3.0</td>\n      <td>4.0</td>\n      <td>2.0</td>\n      <td>1.0</td>\n      <td>el mundo se mueve muy rápido y hay que adaptar...</td>\n      <td>...</td>\n      <td>Muy bueno</td>\n      <td>Regular</td>\n      <td>Bueno</td>\n      <td>Bueno</td>\n      <td>Muy bueno</td>\n      <td>Promotor</td>\n      <td>9</td>\n      <td>Promotor</td>\n      <td>9</td>\n      <td>Sus resultados y recomendaciones fueron muy ac...</td>\n    </tr>\n    <tr>\n      <th>69</th>\n      <td>2023-12-24 19:05:55.920</td>\n      <td>70</td>\n      <td>cliente 70</td>\n      <td>email</td>\n      <td>ES</td>\n      <td>2.0</td>\n      <td>4.0</td>\n      <td>1.0</td>\n      <td>3.0</td>\n      <td>creo que todos son importantes pero si me pone...</td>\n      <td>...</td>\n      <td>Regular</td>\n      <td>Regular</td>\n      <td>Regular</td>\n      <td>Regular</td>\n      <td>Regular</td>\n      <td>Pasivo</td>\n      <td>7</td>\n      <td>Detractor</td>\n      <td>5</td>\n      <td>no me terminan de convencer. Creo que la perso...</td>\n    </tr>\n  </tbody>\n</table>\n<p>70 rows × 22 columns</p>\n</div>"
     },
     "execution_count": 177,
     "metadata": {},
     "output_type": "execute_result"
    }
   ],
   "source": [
    "datos = datos.rename(columns={\n",
    "    'ID de respuesta': 'id',\n",
    "    'importancia_conocimiento_de_marcas: donde 1 es lo mas importante y 4 no lo consideras importante': 'marcas',\n",
    "    'importancia experiencia cliente: donde 1 es lo mas importante y 4 no lo consideras importante':'experiencia_cliente',\n",
    "    'importancia talento humano: donde 1 es lo mas importante y 4 no lo consideras importante':'talento_humano',\n",
    "    'importancia tecnologia e innivación: donde 1 es lo mas importante y 4 no lo consideras importante':'innovación',\n",
    "    'Cómo calificas los resultados entregados en las consultorías?': 'calificacion_reultados',\n",
    "    'Cómo calificas la Metodología de desarrollo de los proyectos?':'metodologia',\n",
    "    'Qué tan satisfecho estás con las alternativas dadas para tu solución?':'satisfechosolucion',\n",
    "    'Qué tan satisfecho estás con los tiempo de solución ?':'satisfechotiempo',\n",
    "    'Cómo calificas la importancia que  le damos a nuestros clientes?':'importancia_clientes',\n",
    "    'Qué tan fácil fue obtener una solución?':'solucion_facil',\n",
    "    'Que tan satisfecho estás con el conocimiento de nuestro personal?':'conocimiento_personal',\n",
    "    'En la misma escala de 0 a 10, en caso que necesites nuevos servicios de consultoria, ¿Qué tan probable es que consideres a nuestra empresa como tu primera opción ? - Grupo':'primera_opcion',\n",
    "    'En la misma escala de 0 a 10, en caso que necesites nuevos servicios de consultoria, ¿Qué tan probable es que consideres a nuestra empresa como tu primera opción ?': 'nuevos_servicios',\n",
    "    'NPS: escala del 0 al 10, donde 0 es no lo recomendaría y 10 definitivamente sí lo recomendaria. Dinos qué tan probable es que recomiendes nuestros servicios':'NPSPPD',\n",
    "    'NPS: En una escala de 0 a 10, donde 0 es la calificación más baja y 10 la más alta, ¿Qué tan probable es que recomiendes nuestros servicios?':'NPS'    \n",
    "})\n",
    "datos"
   ],
   "metadata": {
    "collapsed": false,
    "ExecuteTime": {
     "end_time": "2024-01-29T23:30:44.157745800Z",
     "start_time": "2024-01-29T23:30:44.102636500Z"
    }
   },
   "id": "c2f6eb1582529f1c",
   "execution_count": 177
  },
  {
   "cell_type": "code",
   "outputs": [],
   "source": [
    "datos2 = datos.to_csv('datos2', index=False)"
   ],
   "metadata": {
    "collapsed": false,
    "ExecuteTime": {
     "end_time": "2024-01-29T23:30:44.162856700Z",
     "start_time": "2024-01-29T23:30:44.132660100Z"
    }
   },
   "id": "1cdcac4e12e5ae7f",
   "execution_count": 178
  },
  {
   "cell_type": "code",
   "outputs": [
    {
     "data": {
      "text/plain": "                     Fecha  id Nombre del cliente Canal envio  \\\n0  2023-11-16 13:30:31.585   1          cliente 1       email   \n1  2023-11-16 14:54:57.335   2          cliente 2       email   \n2  2023-11-16 16:44:16.894   3          cliente 3       email   \n3  2023-11-17 16:47:18.235   4          cliente 4       email   \n4  2023-11-21 09:07:35.654   5          cliente 5       email   \n\n  Idioma del usuario  marcas  experiencia_cliente  talento_humano  innovación  \\\n0                 ES     2.0                  3.0             4.0         1.0   \n1                 ES     3.0                  1.0             2.0         4.0   \n2                 ES     1.0                  2.0             4.0         3.0   \n3                 ES     2.0                  1.0             3.0         4.0   \n4                 ES     2.0                  3.0             1.0         4.0   \n\n                  amplia la importancia de atributos  ... satisfechosolucion  \\\n0                           amabilidad y comprension  ...          Muy bueno   \n1                                           cercania  ...          Muy bueno   \n2                                        puntualidad  ...          Muy bueno   \n3                                  servicios baratos  ...          Muy bueno   \n4  cercania, calidez, centrado en el cliente, ama...  ...          Muy bueno   \n\n  satisfechotiempo importancia_clientes solucion_facil conocimiento_personal  \\\n0        Muy bueno            Muy bueno     Muy bueno                  Bueno   \n1        Muy bueno            Muy bueno     Muy bueno             Muy bueno    \n2            Bueno                Bueno        Regular                 Bueno   \n3            Bueno                Bueno     Muy bueno                  Bueno   \n4        Muy bueno                Bueno     Muy bueno                  Bueno   \n\n  primera_opcion nuevos_servicios    NPSPPD  NPS  \\\n0       Promotor                9  Promotor   10   \n1       Promotor               10  Promotor   10   \n2         Pasivo                8    Pasivo    7   \n3         Pasivo                8    Pasivo    8   \n4       Promotor                9  Promotor    9   \n\n              Cuéntanos el motivo de tu calificación  \n0  Tienen las competencias y capacidades necesari...  \n1  siempre dispuestos a brindar la mejor asesoria...  \n2                                                NaN  \n3                  revisar relacion precio y calidad  \n4                                               bien  \n\n[5 rows x 22 columns]",
      "text/html": "<div>\n<style scoped>\n    .dataframe tbody tr th:only-of-type {\n        vertical-align: middle;\n    }\n\n    .dataframe tbody tr th {\n        vertical-align: top;\n    }\n\n    .dataframe thead th {\n        text-align: right;\n    }\n</style>\n<table border=\"1\" class=\"dataframe\">\n  <thead>\n    <tr style=\"text-align: right;\">\n      <th></th>\n      <th>Fecha</th>\n      <th>id</th>\n      <th>Nombre del cliente</th>\n      <th>Canal envio</th>\n      <th>Idioma del usuario</th>\n      <th>marcas</th>\n      <th>experiencia_cliente</th>\n      <th>talento_humano</th>\n      <th>innovación</th>\n      <th>amplia la importancia de atributos</th>\n      <th>...</th>\n      <th>satisfechosolucion</th>\n      <th>satisfechotiempo</th>\n      <th>importancia_clientes</th>\n      <th>solucion_facil</th>\n      <th>conocimiento_personal</th>\n      <th>primera_opcion</th>\n      <th>nuevos_servicios</th>\n      <th>NPSPPD</th>\n      <th>NPS</th>\n      <th>Cuéntanos el motivo de tu calificación</th>\n    </tr>\n  </thead>\n  <tbody>\n    <tr>\n      <th>0</th>\n      <td>2023-11-16 13:30:31.585</td>\n      <td>1</td>\n      <td>cliente 1</td>\n      <td>email</td>\n      <td>ES</td>\n      <td>2.0</td>\n      <td>3.0</td>\n      <td>4.0</td>\n      <td>1.0</td>\n      <td>amabilidad y comprension</td>\n      <td>...</td>\n      <td>Muy bueno</td>\n      <td>Muy bueno</td>\n      <td>Muy bueno</td>\n      <td>Muy bueno</td>\n      <td>Bueno</td>\n      <td>Promotor</td>\n      <td>9</td>\n      <td>Promotor</td>\n      <td>10</td>\n      <td>Tienen las competencias y capacidades necesari...</td>\n    </tr>\n    <tr>\n      <th>1</th>\n      <td>2023-11-16 14:54:57.335</td>\n      <td>2</td>\n      <td>cliente 2</td>\n      <td>email</td>\n      <td>ES</td>\n      <td>3.0</td>\n      <td>1.0</td>\n      <td>2.0</td>\n      <td>4.0</td>\n      <td>cercania</td>\n      <td>...</td>\n      <td>Muy bueno</td>\n      <td>Muy bueno</td>\n      <td>Muy bueno</td>\n      <td>Muy bueno</td>\n      <td>Muy bueno</td>\n      <td>Promotor</td>\n      <td>10</td>\n      <td>Promotor</td>\n      <td>10</td>\n      <td>siempre dispuestos a brindar la mejor asesoria...</td>\n    </tr>\n    <tr>\n      <th>2</th>\n      <td>2023-11-16 16:44:16.894</td>\n      <td>3</td>\n      <td>cliente 3</td>\n      <td>email</td>\n      <td>ES</td>\n      <td>1.0</td>\n      <td>2.0</td>\n      <td>4.0</td>\n      <td>3.0</td>\n      <td>puntualidad</td>\n      <td>...</td>\n      <td>Muy bueno</td>\n      <td>Bueno</td>\n      <td>Bueno</td>\n      <td>Regular</td>\n      <td>Bueno</td>\n      <td>Pasivo</td>\n      <td>8</td>\n      <td>Pasivo</td>\n      <td>7</td>\n      <td>NaN</td>\n    </tr>\n    <tr>\n      <th>3</th>\n      <td>2023-11-17 16:47:18.235</td>\n      <td>4</td>\n      <td>cliente 4</td>\n      <td>email</td>\n      <td>ES</td>\n      <td>2.0</td>\n      <td>1.0</td>\n      <td>3.0</td>\n      <td>4.0</td>\n      <td>servicios baratos</td>\n      <td>...</td>\n      <td>Muy bueno</td>\n      <td>Bueno</td>\n      <td>Bueno</td>\n      <td>Muy bueno</td>\n      <td>Bueno</td>\n      <td>Pasivo</td>\n      <td>8</td>\n      <td>Pasivo</td>\n      <td>8</td>\n      <td>revisar relacion precio y calidad</td>\n    </tr>\n    <tr>\n      <th>4</th>\n      <td>2023-11-21 09:07:35.654</td>\n      <td>5</td>\n      <td>cliente 5</td>\n      <td>email</td>\n      <td>ES</td>\n      <td>2.0</td>\n      <td>3.0</td>\n      <td>1.0</td>\n      <td>4.0</td>\n      <td>cercania, calidez, centrado en el cliente, ama...</td>\n      <td>...</td>\n      <td>Muy bueno</td>\n      <td>Muy bueno</td>\n      <td>Bueno</td>\n      <td>Muy bueno</td>\n      <td>Bueno</td>\n      <td>Promotor</td>\n      <td>9</td>\n      <td>Promotor</td>\n      <td>9</td>\n      <td>bien</td>\n    </tr>\n  </tbody>\n</table>\n<p>5 rows × 22 columns</p>\n</div>"
     },
     "execution_count": 179,
     "metadata": {},
     "output_type": "execute_result"
    }
   ],
   "source": [
    "datos2 = pd.read_csv('datos2')\n",
    "datos2.head()"
   ],
   "metadata": {
    "collapsed": false,
    "ExecuteTime": {
     "end_time": "2024-01-29T23:30:44.188789300Z",
     "start_time": "2024-01-29T23:30:44.147250Z"
    }
   },
   "id": "5dd2e0ab55ab0264",
   "execution_count": 179
  },
  {
   "cell_type": "code",
   "outputs": [],
   "source": [
    "# Ya que están los nombres más cortos procedemos a realizar eliminacion de las columnas que no nos importan.\n",
    "datos2 = datos2.drop([\"Fecha\",\"id\",\"Nombre del cliente\",\"Canal envio\",\"Idioma del usuario\",\"amplia la importancia de atributos\",\"Cuéntanos el motivo de tu calificación\"], axis=1)"
   ],
   "metadata": {
    "collapsed": false,
    "ExecuteTime": {
     "end_time": "2024-01-29T23:30:44.217069100Z",
     "start_time": "2024-01-29T23:30:44.179497800Z"
    }
   },
   "id": "6c21ea7fca10b5dd",
   "execution_count": 180
  },
  {
   "cell_type": "code",
   "outputs": [
    {
     "data": {
      "text/plain": "    marcas  experiencia_cliente  talento_humano  innovación  \\\n0      2.0                  3.0             4.0         1.0   \n1      3.0                  1.0             2.0         4.0   \n2      1.0                  2.0             4.0         3.0   \n3      2.0                  1.0             3.0         4.0   \n4      2.0                  3.0             1.0         4.0   \n..     ...                  ...             ...         ...   \n65     1.0                  3.0             2.0         4.0   \n66     4.0                  1.0             3.0         2.0   \n67     3.0                  4.0             2.0         1.0   \n68     3.0                  4.0             2.0         1.0   \n69     2.0                  4.0             1.0         3.0   \n\n   calificacion_reultados metodologia satisfechosolucion satisfechotiempo  \\\n0                   Bueno        Malo          Muy bueno        Muy bueno   \n1               Muy bueno   Muy bueno          Muy bueno        Muy bueno   \n2                   Bueno   Muy bueno          Muy bueno            Bueno   \n3                 Regular       Bueno          Muy bueno            Bueno   \n4               Muy bueno   Muy bueno          Muy bueno        Muy bueno   \n..                    ...         ...                ...              ...   \n65                   Malo        Malo               Malo             Malo   \n66                   Malo        Malo               Malo             Malo   \n67              Muy bueno   Muy bueno          Muy bueno          Regular   \n68                  Bueno       Bueno          Muy bueno          Regular   \n69                Regular     Regular            Regular          Regular   \n\n   importancia_clientes solucion_facil conocimiento_personal primera_opcion  \\\n0             Muy bueno     Muy bueno                  Bueno       Promotor   \n1             Muy bueno     Muy bueno             Muy bueno        Promotor   \n2                 Bueno        Regular                 Bueno         Pasivo   \n3                 Bueno     Muy bueno                  Bueno         Pasivo   \n4                 Bueno     Muy bueno                  Bueno       Promotor   \n..                  ...            ...                   ...            ...   \n65                 Malo           Malo                  Malo      Detractor   \n66                 Malo           Malo                  Malo      Detractor   \n67                Bueno          Bueno                 Bueno       Promotor   \n68                Bueno          Bueno            Muy bueno        Promotor   \n69              Regular        Regular               Regular         Pasivo   \n\n    nuevos_servicios     NPSPPD  NPS  \n0                  9   Promotor   10  \n1                 10   Promotor   10  \n2                  8     Pasivo    7  \n3                  8     Pasivo    8  \n4                  9   Promotor    9  \n..               ...        ...  ...  \n65                 1  Detractor    1  \n66                 4  Detractor    3  \n67                 9   Promotor    9  \n68                 9   Promotor    9  \n69                 7  Detractor    5  \n\n[70 rows x 15 columns]",
      "text/html": "<div>\n<style scoped>\n    .dataframe tbody tr th:only-of-type {\n        vertical-align: middle;\n    }\n\n    .dataframe tbody tr th {\n        vertical-align: top;\n    }\n\n    .dataframe thead th {\n        text-align: right;\n    }\n</style>\n<table border=\"1\" class=\"dataframe\">\n  <thead>\n    <tr style=\"text-align: right;\">\n      <th></th>\n      <th>marcas</th>\n      <th>experiencia_cliente</th>\n      <th>talento_humano</th>\n      <th>innovación</th>\n      <th>calificacion_reultados</th>\n      <th>metodologia</th>\n      <th>satisfechosolucion</th>\n      <th>satisfechotiempo</th>\n      <th>importancia_clientes</th>\n      <th>solucion_facil</th>\n      <th>conocimiento_personal</th>\n      <th>primera_opcion</th>\n      <th>nuevos_servicios</th>\n      <th>NPSPPD</th>\n      <th>NPS</th>\n    </tr>\n  </thead>\n  <tbody>\n    <tr>\n      <th>0</th>\n      <td>2.0</td>\n      <td>3.0</td>\n      <td>4.0</td>\n      <td>1.0</td>\n      <td>Bueno</td>\n      <td>Malo</td>\n      <td>Muy bueno</td>\n      <td>Muy bueno</td>\n      <td>Muy bueno</td>\n      <td>Muy bueno</td>\n      <td>Bueno</td>\n      <td>Promotor</td>\n      <td>9</td>\n      <td>Promotor</td>\n      <td>10</td>\n    </tr>\n    <tr>\n      <th>1</th>\n      <td>3.0</td>\n      <td>1.0</td>\n      <td>2.0</td>\n      <td>4.0</td>\n      <td>Muy bueno</td>\n      <td>Muy bueno</td>\n      <td>Muy bueno</td>\n      <td>Muy bueno</td>\n      <td>Muy bueno</td>\n      <td>Muy bueno</td>\n      <td>Muy bueno</td>\n      <td>Promotor</td>\n      <td>10</td>\n      <td>Promotor</td>\n      <td>10</td>\n    </tr>\n    <tr>\n      <th>2</th>\n      <td>1.0</td>\n      <td>2.0</td>\n      <td>4.0</td>\n      <td>3.0</td>\n      <td>Bueno</td>\n      <td>Muy bueno</td>\n      <td>Muy bueno</td>\n      <td>Bueno</td>\n      <td>Bueno</td>\n      <td>Regular</td>\n      <td>Bueno</td>\n      <td>Pasivo</td>\n      <td>8</td>\n      <td>Pasivo</td>\n      <td>7</td>\n    </tr>\n    <tr>\n      <th>3</th>\n      <td>2.0</td>\n      <td>1.0</td>\n      <td>3.0</td>\n      <td>4.0</td>\n      <td>Regular</td>\n      <td>Bueno</td>\n      <td>Muy bueno</td>\n      <td>Bueno</td>\n      <td>Bueno</td>\n      <td>Muy bueno</td>\n      <td>Bueno</td>\n      <td>Pasivo</td>\n      <td>8</td>\n      <td>Pasivo</td>\n      <td>8</td>\n    </tr>\n    <tr>\n      <th>4</th>\n      <td>2.0</td>\n      <td>3.0</td>\n      <td>1.0</td>\n      <td>4.0</td>\n      <td>Muy bueno</td>\n      <td>Muy bueno</td>\n      <td>Muy bueno</td>\n      <td>Muy bueno</td>\n      <td>Bueno</td>\n      <td>Muy bueno</td>\n      <td>Bueno</td>\n      <td>Promotor</td>\n      <td>9</td>\n      <td>Promotor</td>\n      <td>9</td>\n    </tr>\n    <tr>\n      <th>...</th>\n      <td>...</td>\n      <td>...</td>\n      <td>...</td>\n      <td>...</td>\n      <td>...</td>\n      <td>...</td>\n      <td>...</td>\n      <td>...</td>\n      <td>...</td>\n      <td>...</td>\n      <td>...</td>\n      <td>...</td>\n      <td>...</td>\n      <td>...</td>\n      <td>...</td>\n    </tr>\n    <tr>\n      <th>65</th>\n      <td>1.0</td>\n      <td>3.0</td>\n      <td>2.0</td>\n      <td>4.0</td>\n      <td>Malo</td>\n      <td>Malo</td>\n      <td>Malo</td>\n      <td>Malo</td>\n      <td>Malo</td>\n      <td>Malo</td>\n      <td>Malo</td>\n      <td>Detractor</td>\n      <td>1</td>\n      <td>Detractor</td>\n      <td>1</td>\n    </tr>\n    <tr>\n      <th>66</th>\n      <td>4.0</td>\n      <td>1.0</td>\n      <td>3.0</td>\n      <td>2.0</td>\n      <td>Malo</td>\n      <td>Malo</td>\n      <td>Malo</td>\n      <td>Malo</td>\n      <td>Malo</td>\n      <td>Malo</td>\n      <td>Malo</td>\n      <td>Detractor</td>\n      <td>4</td>\n      <td>Detractor</td>\n      <td>3</td>\n    </tr>\n    <tr>\n      <th>67</th>\n      <td>3.0</td>\n      <td>4.0</td>\n      <td>2.0</td>\n      <td>1.0</td>\n      <td>Muy bueno</td>\n      <td>Muy bueno</td>\n      <td>Muy bueno</td>\n      <td>Regular</td>\n      <td>Bueno</td>\n      <td>Bueno</td>\n      <td>Bueno</td>\n      <td>Promotor</td>\n      <td>9</td>\n      <td>Promotor</td>\n      <td>9</td>\n    </tr>\n    <tr>\n      <th>68</th>\n      <td>3.0</td>\n      <td>4.0</td>\n      <td>2.0</td>\n      <td>1.0</td>\n      <td>Bueno</td>\n      <td>Bueno</td>\n      <td>Muy bueno</td>\n      <td>Regular</td>\n      <td>Bueno</td>\n      <td>Bueno</td>\n      <td>Muy bueno</td>\n      <td>Promotor</td>\n      <td>9</td>\n      <td>Promotor</td>\n      <td>9</td>\n    </tr>\n    <tr>\n      <th>69</th>\n      <td>2.0</td>\n      <td>4.0</td>\n      <td>1.0</td>\n      <td>3.0</td>\n      <td>Regular</td>\n      <td>Regular</td>\n      <td>Regular</td>\n      <td>Regular</td>\n      <td>Regular</td>\n      <td>Regular</td>\n      <td>Regular</td>\n      <td>Pasivo</td>\n      <td>7</td>\n      <td>Detractor</td>\n      <td>5</td>\n    </tr>\n  </tbody>\n</table>\n<p>70 rows × 15 columns</p>\n</div>"
     },
     "execution_count": 181,
     "metadata": {},
     "output_type": "execute_result"
    }
   ],
   "source": [
    "datos2"
   ],
   "metadata": {
    "collapsed": false,
    "ExecuteTime": {
     "end_time": "2024-01-29T23:30:44.227430Z",
     "start_time": "2024-01-29T23:30:44.194009400Z"
    }
   },
   "id": "278188bd77a67027",
   "execution_count": 181
  },
  {
   "cell_type": "code",
   "outputs": [
    {
     "data": {
      "text/plain": "marcas                    1\nexperiencia_cliente       1\ntalento_humano            1\ninnovación                1\ncalificacion_reultados    0\nmetodologia               0\nsatisfechosolucion        0\nsatisfechotiempo          0\nimportancia_clientes      0\nsolucion_facil            0\nconocimiento_personal     0\nprimera_opcion            0\nnuevos_servicios          0\nNPSPPD                    0\nNPS                       0\ndtype: int64"
     },
     "execution_count": 182,
     "metadata": {},
     "output_type": "execute_result"
    }
   ],
   "source": [
    "# Ahora podemos revisar si los datos estan completos.\n",
    "datos2.isna().sum()"
   ],
   "metadata": {
    "collapsed": false,
    "ExecuteTime": {
     "end_time": "2024-01-29T23:30:44.241910600Z",
     "start_time": "2024-01-29T23:30:44.209577700Z"
    }
   },
   "id": "5b950bf066f10adf",
   "execution_count": 182
  },
  {
   "cell_type": "code",
   "outputs": [
    {
     "data": {
      "text/plain": "marcas                    0\nexperiencia_cliente       0\ntalento_humano            0\ninnovación                0\ncalificacion_reultados    0\nmetodologia               0\nsatisfechosolucion        0\nsatisfechotiempo          0\nimportancia_clientes      0\nsolucion_facil            0\nconocimiento_personal     0\nprimera_opcion            0\nnuevos_servicios          0\nNPSPPD                    0\nNPS                       0\ndtype: int64"
     },
     "execution_count": 183,
     "metadata": {},
     "output_type": "execute_result"
    }
   ],
   "source": [
    "# al parecer solo hay una fila con datos nulos, eliminémosla y verifiquémoslo nuevamente.\n",
    "datos2 = datos2.dropna()\n",
    "datos2.isna().sum()"
   ],
   "metadata": {
    "collapsed": false,
    "ExecuteTime": {
     "end_time": "2024-01-29T23:30:44.267847800Z",
     "start_time": "2024-01-29T23:30:44.226392600Z"
    }
   },
   "id": "e1b13cebcaa2b0b3",
   "execution_count": 183
  },
  {
   "cell_type": "code",
   "outputs": [
    {
     "data": {
      "text/plain": "    marcas  experiencia_cliente  talento_humano  innovación  \\\n0      2.0                  3.0             4.0         1.0   \n1      3.0                  1.0             2.0         4.0   \n2      1.0                  2.0             4.0         3.0   \n3      2.0                  1.0             3.0         4.0   \n4      2.0                  3.0             1.0         4.0   \n..     ...                  ...             ...         ...   \n65     1.0                  3.0             2.0         4.0   \n66     4.0                  1.0             3.0         2.0   \n67     3.0                  4.0             2.0         1.0   \n68     3.0                  4.0             2.0         1.0   \n69     2.0                  4.0             1.0         3.0   \n\n   calificacion_reultados metodologia satisfechosolucion satisfechotiempo  \\\n0                   Bueno        Malo          Muy bueno        Muy bueno   \n1               Muy bueno   Muy bueno          Muy bueno        Muy bueno   \n2                   Bueno   Muy bueno          Muy bueno            Bueno   \n3                 Regular       Bueno          Muy bueno            Bueno   \n4               Muy bueno   Muy bueno          Muy bueno        Muy bueno   \n..                    ...         ...                ...              ...   \n65                   Malo        Malo               Malo             Malo   \n66                   Malo        Malo               Malo             Malo   \n67              Muy bueno   Muy bueno          Muy bueno          Regular   \n68                  Bueno       Bueno          Muy bueno          Regular   \n69                Regular     Regular            Regular          Regular   \n\n   importancia_clientes solucion_facil conocimiento_personal primera_opcion  \\\n0             Muy bueno     Muy bueno                  Bueno       Promotor   \n1             Muy bueno     Muy bueno             Muy bueno        Promotor   \n2                 Bueno        Regular                 Bueno         Pasivo   \n3                 Bueno     Muy bueno                  Bueno         Pasivo   \n4                 Bueno     Muy bueno                  Bueno       Promotor   \n..                  ...            ...                   ...            ...   \n65                 Malo           Malo                  Malo      Detractor   \n66                 Malo           Malo                  Malo      Detractor   \n67                Bueno          Bueno                 Bueno       Promotor   \n68                Bueno          Bueno            Muy bueno        Promotor   \n69              Regular        Regular               Regular         Pasivo   \n\n    nuevos_servicios     NPSPPD  NPS  \n0                  9   Promotor   10  \n1                 10   Promotor   10  \n2                  8     Pasivo    7  \n3                  8     Pasivo    8  \n4                  9   Promotor    9  \n..               ...        ...  ...  \n65                 1  Detractor    1  \n66                 4  Detractor    3  \n67                 9   Promotor    9  \n68                 9   Promotor    9  \n69                 7  Detractor    5  \n\n[69 rows x 15 columns]",
      "text/html": "<div>\n<style scoped>\n    .dataframe tbody tr th:only-of-type {\n        vertical-align: middle;\n    }\n\n    .dataframe tbody tr th {\n        vertical-align: top;\n    }\n\n    .dataframe thead th {\n        text-align: right;\n    }\n</style>\n<table border=\"1\" class=\"dataframe\">\n  <thead>\n    <tr style=\"text-align: right;\">\n      <th></th>\n      <th>marcas</th>\n      <th>experiencia_cliente</th>\n      <th>talento_humano</th>\n      <th>innovación</th>\n      <th>calificacion_reultados</th>\n      <th>metodologia</th>\n      <th>satisfechosolucion</th>\n      <th>satisfechotiempo</th>\n      <th>importancia_clientes</th>\n      <th>solucion_facil</th>\n      <th>conocimiento_personal</th>\n      <th>primera_opcion</th>\n      <th>nuevos_servicios</th>\n      <th>NPSPPD</th>\n      <th>NPS</th>\n    </tr>\n  </thead>\n  <tbody>\n    <tr>\n      <th>0</th>\n      <td>2.0</td>\n      <td>3.0</td>\n      <td>4.0</td>\n      <td>1.0</td>\n      <td>Bueno</td>\n      <td>Malo</td>\n      <td>Muy bueno</td>\n      <td>Muy bueno</td>\n      <td>Muy bueno</td>\n      <td>Muy bueno</td>\n      <td>Bueno</td>\n      <td>Promotor</td>\n      <td>9</td>\n      <td>Promotor</td>\n      <td>10</td>\n    </tr>\n    <tr>\n      <th>1</th>\n      <td>3.0</td>\n      <td>1.0</td>\n      <td>2.0</td>\n      <td>4.0</td>\n      <td>Muy bueno</td>\n      <td>Muy bueno</td>\n      <td>Muy bueno</td>\n      <td>Muy bueno</td>\n      <td>Muy bueno</td>\n      <td>Muy bueno</td>\n      <td>Muy bueno</td>\n      <td>Promotor</td>\n      <td>10</td>\n      <td>Promotor</td>\n      <td>10</td>\n    </tr>\n    <tr>\n      <th>2</th>\n      <td>1.0</td>\n      <td>2.0</td>\n      <td>4.0</td>\n      <td>3.0</td>\n      <td>Bueno</td>\n      <td>Muy bueno</td>\n      <td>Muy bueno</td>\n      <td>Bueno</td>\n      <td>Bueno</td>\n      <td>Regular</td>\n      <td>Bueno</td>\n      <td>Pasivo</td>\n      <td>8</td>\n      <td>Pasivo</td>\n      <td>7</td>\n    </tr>\n    <tr>\n      <th>3</th>\n      <td>2.0</td>\n      <td>1.0</td>\n      <td>3.0</td>\n      <td>4.0</td>\n      <td>Regular</td>\n      <td>Bueno</td>\n      <td>Muy bueno</td>\n      <td>Bueno</td>\n      <td>Bueno</td>\n      <td>Muy bueno</td>\n      <td>Bueno</td>\n      <td>Pasivo</td>\n      <td>8</td>\n      <td>Pasivo</td>\n      <td>8</td>\n    </tr>\n    <tr>\n      <th>4</th>\n      <td>2.0</td>\n      <td>3.0</td>\n      <td>1.0</td>\n      <td>4.0</td>\n      <td>Muy bueno</td>\n      <td>Muy bueno</td>\n      <td>Muy bueno</td>\n      <td>Muy bueno</td>\n      <td>Bueno</td>\n      <td>Muy bueno</td>\n      <td>Bueno</td>\n      <td>Promotor</td>\n      <td>9</td>\n      <td>Promotor</td>\n      <td>9</td>\n    </tr>\n    <tr>\n      <th>...</th>\n      <td>...</td>\n      <td>...</td>\n      <td>...</td>\n      <td>...</td>\n      <td>...</td>\n      <td>...</td>\n      <td>...</td>\n      <td>...</td>\n      <td>...</td>\n      <td>...</td>\n      <td>...</td>\n      <td>...</td>\n      <td>...</td>\n      <td>...</td>\n      <td>...</td>\n    </tr>\n    <tr>\n      <th>65</th>\n      <td>1.0</td>\n      <td>3.0</td>\n      <td>2.0</td>\n      <td>4.0</td>\n      <td>Malo</td>\n      <td>Malo</td>\n      <td>Malo</td>\n      <td>Malo</td>\n      <td>Malo</td>\n      <td>Malo</td>\n      <td>Malo</td>\n      <td>Detractor</td>\n      <td>1</td>\n      <td>Detractor</td>\n      <td>1</td>\n    </tr>\n    <tr>\n      <th>66</th>\n      <td>4.0</td>\n      <td>1.0</td>\n      <td>3.0</td>\n      <td>2.0</td>\n      <td>Malo</td>\n      <td>Malo</td>\n      <td>Malo</td>\n      <td>Malo</td>\n      <td>Malo</td>\n      <td>Malo</td>\n      <td>Malo</td>\n      <td>Detractor</td>\n      <td>4</td>\n      <td>Detractor</td>\n      <td>3</td>\n    </tr>\n    <tr>\n      <th>67</th>\n      <td>3.0</td>\n      <td>4.0</td>\n      <td>2.0</td>\n      <td>1.0</td>\n      <td>Muy bueno</td>\n      <td>Muy bueno</td>\n      <td>Muy bueno</td>\n      <td>Regular</td>\n      <td>Bueno</td>\n      <td>Bueno</td>\n      <td>Bueno</td>\n      <td>Promotor</td>\n      <td>9</td>\n      <td>Promotor</td>\n      <td>9</td>\n    </tr>\n    <tr>\n      <th>68</th>\n      <td>3.0</td>\n      <td>4.0</td>\n      <td>2.0</td>\n      <td>1.0</td>\n      <td>Bueno</td>\n      <td>Bueno</td>\n      <td>Muy bueno</td>\n      <td>Regular</td>\n      <td>Bueno</td>\n      <td>Bueno</td>\n      <td>Muy bueno</td>\n      <td>Promotor</td>\n      <td>9</td>\n      <td>Promotor</td>\n      <td>9</td>\n    </tr>\n    <tr>\n      <th>69</th>\n      <td>2.0</td>\n      <td>4.0</td>\n      <td>1.0</td>\n      <td>3.0</td>\n      <td>Regular</td>\n      <td>Regular</td>\n      <td>Regular</td>\n      <td>Regular</td>\n      <td>Regular</td>\n      <td>Regular</td>\n      <td>Regular</td>\n      <td>Pasivo</td>\n      <td>7</td>\n      <td>Detractor</td>\n      <td>5</td>\n    </tr>\n  </tbody>\n</table>\n<p>69 rows × 15 columns</p>\n</div>"
     },
     "execution_count": 184,
     "metadata": {},
     "output_type": "execute_result"
    }
   ],
   "source": [
    "datos2"
   ],
   "metadata": {
    "collapsed": false,
    "ExecuteTime": {
     "end_time": "2024-01-29T23:30:44.292794700Z",
     "start_time": "2024-01-29T23:30:44.241910600Z"
    }
   },
   "id": "3909c6b74b1f25e",
   "execution_count": 184
  },
  {
   "cell_type": "code",
   "outputs": [
    {
     "data": {
      "text/plain": "array(['Bueno', 'Muy bueno', 'Regular', 'Malo'], dtype=object)"
     },
     "execution_count": 185,
     "metadata": {},
     "output_type": "execute_result"
    }
   ],
   "source": [
    "datos3[\"calificacion_reultados\"].unique()"
   ],
   "metadata": {
    "collapsed": false,
    "ExecuteTime": {
     "end_time": "2024-01-29T23:30:44.293834Z",
     "start_time": "2024-01-29T23:30:44.256524900Z"
    }
   },
   "id": "dfd2784f212b35b0",
   "execution_count": 185
  },
  {
   "cell_type": "code",
   "outputs": [
    {
     "data": {
      "text/plain": "   marcas  experiencia_cliente  talento_humano  innovación  \\\n0     2.0                  3.0             4.0         1.0   \n1     3.0                  1.0             2.0         4.0   \n2     1.0                  2.0             4.0         3.0   \n3     2.0                  1.0             3.0         4.0   \n4     2.0                  3.0             1.0         4.0   \n\n  calificacion_reultados metodologia satisfechosolucion satisfechotiempo  \\\n0                  Bueno        Malo          Muy bueno        Muy bueno   \n1              Muy bueno   Muy bueno          Muy bueno        Muy bueno   \n2                  Bueno   Muy bueno          Muy bueno            Bueno   \n3                Regular       Bueno          Muy bueno            Bueno   \n4              Muy bueno   Muy bueno          Muy bueno        Muy bueno   \n\n  importancia_clientes solucion_facil conocimiento_personal primera_opcion  \\\n0            Muy bueno     Muy bueno                  Bueno       Promotor   \n1            Muy bueno     Muy bueno             Muy bueno        Promotor   \n2                Bueno        Regular                 Bueno         Pasivo   \n3                Bueno     Muy bueno                  Bueno         Pasivo   \n4                Bueno     Muy bueno                  Bueno       Promotor   \n\n   nuevos_servicios    NPSPPD  NPS  \n0                 9  Promotor   10  \n1                10  Promotor   10  \n2                 8    Pasivo    7  \n3                 8    Pasivo    8  \n4                 9  Promotor    9  ",
      "text/html": "<div>\n<style scoped>\n    .dataframe tbody tr th:only-of-type {\n        vertical-align: middle;\n    }\n\n    .dataframe tbody tr th {\n        vertical-align: top;\n    }\n\n    .dataframe thead th {\n        text-align: right;\n    }\n</style>\n<table border=\"1\" class=\"dataframe\">\n  <thead>\n    <tr style=\"text-align: right;\">\n      <th></th>\n      <th>marcas</th>\n      <th>experiencia_cliente</th>\n      <th>talento_humano</th>\n      <th>innovación</th>\n      <th>calificacion_reultados</th>\n      <th>metodologia</th>\n      <th>satisfechosolucion</th>\n      <th>satisfechotiempo</th>\n      <th>importancia_clientes</th>\n      <th>solucion_facil</th>\n      <th>conocimiento_personal</th>\n      <th>primera_opcion</th>\n      <th>nuevos_servicios</th>\n      <th>NPSPPD</th>\n      <th>NPS</th>\n    </tr>\n  </thead>\n  <tbody>\n    <tr>\n      <th>0</th>\n      <td>2.0</td>\n      <td>3.0</td>\n      <td>4.0</td>\n      <td>1.0</td>\n      <td>Bueno</td>\n      <td>Malo</td>\n      <td>Muy bueno</td>\n      <td>Muy bueno</td>\n      <td>Muy bueno</td>\n      <td>Muy bueno</td>\n      <td>Bueno</td>\n      <td>Promotor</td>\n      <td>9</td>\n      <td>Promotor</td>\n      <td>10</td>\n    </tr>\n    <tr>\n      <th>1</th>\n      <td>3.0</td>\n      <td>1.0</td>\n      <td>2.0</td>\n      <td>4.0</td>\n      <td>Muy bueno</td>\n      <td>Muy bueno</td>\n      <td>Muy bueno</td>\n      <td>Muy bueno</td>\n      <td>Muy bueno</td>\n      <td>Muy bueno</td>\n      <td>Muy bueno</td>\n      <td>Promotor</td>\n      <td>10</td>\n      <td>Promotor</td>\n      <td>10</td>\n    </tr>\n    <tr>\n      <th>2</th>\n      <td>1.0</td>\n      <td>2.0</td>\n      <td>4.0</td>\n      <td>3.0</td>\n      <td>Bueno</td>\n      <td>Muy bueno</td>\n      <td>Muy bueno</td>\n      <td>Bueno</td>\n      <td>Bueno</td>\n      <td>Regular</td>\n      <td>Bueno</td>\n      <td>Pasivo</td>\n      <td>8</td>\n      <td>Pasivo</td>\n      <td>7</td>\n    </tr>\n    <tr>\n      <th>3</th>\n      <td>2.0</td>\n      <td>1.0</td>\n      <td>3.0</td>\n      <td>4.0</td>\n      <td>Regular</td>\n      <td>Bueno</td>\n      <td>Muy bueno</td>\n      <td>Bueno</td>\n      <td>Bueno</td>\n      <td>Muy bueno</td>\n      <td>Bueno</td>\n      <td>Pasivo</td>\n      <td>8</td>\n      <td>Pasivo</td>\n      <td>8</td>\n    </tr>\n    <tr>\n      <th>4</th>\n      <td>2.0</td>\n      <td>3.0</td>\n      <td>1.0</td>\n      <td>4.0</td>\n      <td>Muy bueno</td>\n      <td>Muy bueno</td>\n      <td>Muy bueno</td>\n      <td>Muy bueno</td>\n      <td>Bueno</td>\n      <td>Muy bueno</td>\n      <td>Bueno</td>\n      <td>Promotor</td>\n      <td>9</td>\n      <td>Promotor</td>\n      <td>9</td>\n    </tr>\n  </tbody>\n</table>\n</div>"
     },
     "execution_count": 190,
     "metadata": {},
     "output_type": "execute_result"
    }
   ],
   "source": [
    "datos2.to_csv('datos3', index=False)\n",
    "datos3 = pd.read_csv('datos3')\n",
    "datos3.head()"
   ],
   "metadata": {
    "collapsed": false,
    "ExecuteTime": {
     "end_time": "2024-01-29T23:34:36.827105400Z",
     "start_time": "2024-01-29T23:34:36.804100Z"
    }
   },
   "id": "90d49ed74f011a14",
   "execution_count": 190
  },
  {
   "cell_type": "code",
   "outputs": [
    {
     "data": {
      "text/plain": "calificacion_reultados\nBueno        26\nMuy bueno    26\nRegular      10\nMalo          7\nName: count, dtype: int64"
     },
     "execution_count": 187,
     "metadata": {},
     "output_type": "execute_result"
    }
   ],
   "source": [
    "# podemos realizar este procedimiento con cada uno de los valores categoricos nominales para\n",
    "# identificar la cantidad conversion de datos que debemos realizar.\n",
    "datos3[\"calificacion_reultados\"].value_counts()"
   ],
   "metadata": {
    "collapsed": false,
    "ExecuteTime": {
     "end_time": "2024-01-29T23:30:44.357048300Z",
     "start_time": "2024-01-29T23:30:44.287561200Z"
    }
   },
   "id": "d0752e5a2cca11a4",
   "execution_count": 187
  },
  {
   "cell_type": "code",
   "outputs": [],
   "source": [
    "# hay que preprocesar los datos desde sklearn\n",
    "from sklearn.preprocessing import LabelEncoder\n",
    "labelencoder = LabelEncoder()"
   ],
   "metadata": {
    "collapsed": false,
    "ExecuteTime": {
     "end_time": "2024-01-29T23:37:20.763610400Z",
     "start_time": "2024-01-29T23:37:20.758607700Z"
    }
   },
   "id": "5e955b87f8c3572",
   "execution_count": 191
  },
  {
   "cell_type": "code",
   "outputs": [
    {
     "data": {
      "text/plain": "   marcas  experiencia_cliente  talento_humano  innovación  \\\n0     2.0                  3.0             4.0         1.0   \n1     3.0                  1.0             2.0         4.0   \n2     1.0                  2.0             4.0         3.0   \n3     2.0                  1.0             3.0         4.0   \n4     2.0                  3.0             1.0         4.0   \n\n   calificacion_reultados  metodologia  satisfechosolucion  satisfechotiempo  \\\n0                       0            1                   2                 2   \n1                       2            2                   2                 2   \n2                       0            2                   2                 0   \n3                       3            0                   2                 0   \n4                       2            2                   2                 2   \n\n   importancia_clientes  solucion_facil  conocimiento_personal  \\\n0                     2               2                      0   \n1                     2               2                      2   \n2                     0               3                      0   \n3                     0               2                      0   \n4                     0               2                      0   \n\n   primera_opcion  nuevos_servicios  NPSPPD  NPS  \n0               2                 9       2   10  \n1               2                10       2   10  \n2               1                 8       1    7  \n3               1                 8       1    8  \n4               2                 9       2    9  ",
      "text/html": "<div>\n<style scoped>\n    .dataframe tbody tr th:only-of-type {\n        vertical-align: middle;\n    }\n\n    .dataframe tbody tr th {\n        vertical-align: top;\n    }\n\n    .dataframe thead th {\n        text-align: right;\n    }\n</style>\n<table border=\"1\" class=\"dataframe\">\n  <thead>\n    <tr style=\"text-align: right;\">\n      <th></th>\n      <th>marcas</th>\n      <th>experiencia_cliente</th>\n      <th>talento_humano</th>\n      <th>innovación</th>\n      <th>calificacion_reultados</th>\n      <th>metodologia</th>\n      <th>satisfechosolucion</th>\n      <th>satisfechotiempo</th>\n      <th>importancia_clientes</th>\n      <th>solucion_facil</th>\n      <th>conocimiento_personal</th>\n      <th>primera_opcion</th>\n      <th>nuevos_servicios</th>\n      <th>NPSPPD</th>\n      <th>NPS</th>\n    </tr>\n  </thead>\n  <tbody>\n    <tr>\n      <th>0</th>\n      <td>2.0</td>\n      <td>3.0</td>\n      <td>4.0</td>\n      <td>1.0</td>\n      <td>0</td>\n      <td>1</td>\n      <td>2</td>\n      <td>2</td>\n      <td>2</td>\n      <td>2</td>\n      <td>0</td>\n      <td>2</td>\n      <td>9</td>\n      <td>2</td>\n      <td>10</td>\n    </tr>\n    <tr>\n      <th>1</th>\n      <td>3.0</td>\n      <td>1.0</td>\n      <td>2.0</td>\n      <td>4.0</td>\n      <td>2</td>\n      <td>2</td>\n      <td>2</td>\n      <td>2</td>\n      <td>2</td>\n      <td>2</td>\n      <td>2</td>\n      <td>2</td>\n      <td>10</td>\n      <td>2</td>\n      <td>10</td>\n    </tr>\n    <tr>\n      <th>2</th>\n      <td>1.0</td>\n      <td>2.0</td>\n      <td>4.0</td>\n      <td>3.0</td>\n      <td>0</td>\n      <td>2</td>\n      <td>2</td>\n      <td>0</td>\n      <td>0</td>\n      <td>3</td>\n      <td>0</td>\n      <td>1</td>\n      <td>8</td>\n      <td>1</td>\n      <td>7</td>\n    </tr>\n    <tr>\n      <th>3</th>\n      <td>2.0</td>\n      <td>1.0</td>\n      <td>3.0</td>\n      <td>4.0</td>\n      <td>3</td>\n      <td>0</td>\n      <td>2</td>\n      <td>0</td>\n      <td>0</td>\n      <td>2</td>\n      <td>0</td>\n      <td>1</td>\n      <td>8</td>\n      <td>1</td>\n      <td>8</td>\n    </tr>\n    <tr>\n      <th>4</th>\n      <td>2.0</td>\n      <td>3.0</td>\n      <td>1.0</td>\n      <td>4.0</td>\n      <td>2</td>\n      <td>2</td>\n      <td>2</td>\n      <td>2</td>\n      <td>0</td>\n      <td>2</td>\n      <td>0</td>\n      <td>2</td>\n      <td>9</td>\n      <td>2</td>\n      <td>9</td>\n    </tr>\n  </tbody>\n</table>\n</div>"
     },
     "execution_count": 195,
     "metadata": {},
     "output_type": "execute_result"
    }
   ],
   "source": [
    "datos3[\"calificacion_reultados\"]=labelencoder.fit_transform(datos3[\"calificacion_reultados\"])\n",
    "datos3[\"metodologia\"]=labelencoder.fit_transform(datos3[\"metodologia\"])\n",
    "datos3[\"satisfechosolucion\"]=labelencoder.fit_transform(datos3[\"satisfechosolucion\"])\n",
    "datos3[\"satisfechotiempo\"]=labelencoder.fit_transform(datos3[\"satisfechotiempo\"])\n",
    "datos3[\"importancia_clientes\"]=labelencoder.fit_transform(datos3[\"importancia_clientes\"])\n",
    "datos3[\"solucion_facil\"]=labelencoder.fit_transform(datos3[\"solucion_facil\"])\n",
    "datos3[\"conocimiento_personal\"]=labelencoder.fit_transform(datos3[\"conocimiento_personal\"])\n",
    "datos3[\"primera_opcion\"]=labelencoder.fit_transform(datos3[\"primera_opcion\"])\n",
    "datos3[\"NPSPPD\"]=labelencoder.fit_transform(datos3[\"NPSPPD\"])\n",
    "\n",
    "datos4 = datos3\n",
    "datos4.head()"
   ],
   "metadata": {
    "collapsed": false,
    "ExecuteTime": {
     "end_time": "2024-01-29T23:43:12.090916800Z",
     "start_time": "2024-01-29T23:43:12.065738100Z"
    }
   },
   "id": "9d806680c5a6dd6c",
   "execution_count": 195
  },
  {
   "cell_type": "code",
   "outputs": [],
   "source": [
    "# En este espacio, separaremos los datos.\n",
    "# En el eje X, dejamos todos los datos eliminando la columna [\"NPS\"].\n",
    "# En el eje Y, solamente dejamos la columna [\"NPS\"].\n",
    "x=datos4.drop([\"NPS\"], axis=1)\n",
    "y=datos4[\"NPS\"]"
   ],
   "metadata": {
    "collapsed": false,
    "ExecuteTime": {
     "end_time": "2024-01-29T23:55:42.304290200Z",
     "start_time": "2024-01-29T23:55:42.291937600Z"
    }
   },
   "id": "e151c413516bc4f6",
   "execution_count": 198
  },
  {
   "cell_type": "code",
   "outputs": [
    {
     "data": {
      "text/plain": "LinearRegression()",
      "text/html": "<style>#sk-container-id-1 {\n  /* Definition of color scheme common for light and dark mode */\n  --sklearn-color-text: black;\n  --sklearn-color-line: gray;\n  /* Definition of color scheme for unfitted estimators */\n  --sklearn-color-unfitted-level-0: #fff5e6;\n  --sklearn-color-unfitted-level-1: #f6e4d2;\n  --sklearn-color-unfitted-level-2: #ffe0b3;\n  --sklearn-color-unfitted-level-3: chocolate;\n  /* Definition of color scheme for fitted estimators */\n  --sklearn-color-fitted-level-0: #f0f8ff;\n  --sklearn-color-fitted-level-1: #d4ebff;\n  --sklearn-color-fitted-level-2: #b3dbfd;\n  --sklearn-color-fitted-level-3: cornflowerblue;\n\n  /* Specific color for light theme */\n  --sklearn-color-text-on-default-background: var(--sg-text-color, var(--theme-code-foreground, var(--jp-content-font-color1, black)));\n  --sklearn-color-background: var(--sg-background-color, var(--theme-background, var(--jp-layout-color0, white)));\n  --sklearn-color-border-box: var(--sg-text-color, var(--theme-code-foreground, var(--jp-content-font-color1, black)));\n  --sklearn-color-icon: #696969;\n\n  @media (prefers-color-scheme: dark) {\n    /* Redefinition of color scheme for dark theme */\n    --sklearn-color-text-on-default-background: var(--sg-text-color, var(--theme-code-foreground, var(--jp-content-font-color1, white)));\n    --sklearn-color-background: var(--sg-background-color, var(--theme-background, var(--jp-layout-color0, #111)));\n    --sklearn-color-border-box: var(--sg-text-color, var(--theme-code-foreground, var(--jp-content-font-color1, white)));\n    --sklearn-color-icon: #878787;\n  }\n}\n\n#sk-container-id-1 {\n  color: var(--sklearn-color-text);\n}\n\n#sk-container-id-1 pre {\n  padding: 0;\n}\n\n#sk-container-id-1 input.sk-hidden--visually {\n  border: 0;\n  clip: rect(1px 1px 1px 1px);\n  clip: rect(1px, 1px, 1px, 1px);\n  height: 1px;\n  margin: -1px;\n  overflow: hidden;\n  padding: 0;\n  position: absolute;\n  width: 1px;\n}\n\n#sk-container-id-1 div.sk-dashed-wrapped {\n  border: 1px dashed var(--sklearn-color-line);\n  margin: 0 0.4em 0.5em 0.4em;\n  box-sizing: border-box;\n  padding-bottom: 0.4em;\n  background-color: var(--sklearn-color-background);\n}\n\n#sk-container-id-1 div.sk-container {\n  /* jupyter's `normalize.less` sets `[hidden] { display: none; }`\n     but bootstrap.min.css set `[hidden] { display: none !important; }`\n     so we also need the `!important` here to be able to override the\n     default hidden behavior on the sphinx rendered scikit-learn.org.\n     See: https://github.com/scikit-learn/scikit-learn/issues/21755 */\n  display: inline-block !important;\n  position: relative;\n}\n\n#sk-container-id-1 div.sk-text-repr-fallback {\n  display: none;\n}\n\ndiv.sk-parallel-item,\ndiv.sk-serial,\ndiv.sk-item {\n  /* draw centered vertical line to link estimators */\n  background-image: linear-gradient(var(--sklearn-color-text-on-default-background), var(--sklearn-color-text-on-default-background));\n  background-size: 2px 100%;\n  background-repeat: no-repeat;\n  background-position: center center;\n}\n\n/* Parallel-specific style estimator block */\n\n#sk-container-id-1 div.sk-parallel-item::after {\n  content: \"\";\n  width: 100%;\n  border-bottom: 2px solid var(--sklearn-color-text-on-default-background);\n  flex-grow: 1;\n}\n\n#sk-container-id-1 div.sk-parallel {\n  display: flex;\n  align-items: stretch;\n  justify-content: center;\n  background-color: var(--sklearn-color-background);\n  position: relative;\n}\n\n#sk-container-id-1 div.sk-parallel-item {\n  display: flex;\n  flex-direction: column;\n}\n\n#sk-container-id-1 div.sk-parallel-item:first-child::after {\n  align-self: flex-end;\n  width: 50%;\n}\n\n#sk-container-id-1 div.sk-parallel-item:last-child::after {\n  align-self: flex-start;\n  width: 50%;\n}\n\n#sk-container-id-1 div.sk-parallel-item:only-child::after {\n  width: 0;\n}\n\n/* Serial-specific style estimator block */\n\n#sk-container-id-1 div.sk-serial {\n  display: flex;\n  flex-direction: column;\n  align-items: center;\n  background-color: var(--sklearn-color-background);\n  padding-right: 1em;\n  padding-left: 1em;\n}\n\n\n/* Toggleable style: style used for estimator/Pipeline/ColumnTransformer box that is\nclickable and can be expanded/collapsed.\n- Pipeline and ColumnTransformer use this feature and define the default style\n- Estimators will overwrite some part of the style using the `sk-estimator` class\n*/\n\n/* Pipeline and ColumnTransformer style (default) */\n\n#sk-container-id-1 div.sk-toggleable {\n  /* Default theme specific background. It is overwritten whether we have a\n  specific estimator or a Pipeline/ColumnTransformer */\n  background-color: var(--sklearn-color-background);\n}\n\n/* Toggleable label */\n#sk-container-id-1 label.sk-toggleable__label {\n  cursor: pointer;\n  display: block;\n  width: 100%;\n  margin-bottom: 0;\n  padding: 0.5em;\n  box-sizing: border-box;\n  text-align: center;\n}\n\n#sk-container-id-1 label.sk-toggleable__label-arrow:before {\n  /* Arrow on the left of the label */\n  content: \"▸\";\n  float: left;\n  margin-right: 0.25em;\n  color: var(--sklearn-color-icon);\n}\n\n#sk-container-id-1 label.sk-toggleable__label-arrow:hover:before {\n  color: var(--sklearn-color-text);\n}\n\n/* Toggleable content - dropdown */\n\n#sk-container-id-1 div.sk-toggleable__content {\n  max-height: 0;\n  max-width: 0;\n  overflow: hidden;\n  text-align: left;\n  /* unfitted */\n  background-color: var(--sklearn-color-unfitted-level-0);\n}\n\n#sk-container-id-1 div.sk-toggleable__content.fitted {\n  /* fitted */\n  background-color: var(--sklearn-color-fitted-level-0);\n}\n\n#sk-container-id-1 div.sk-toggleable__content pre {\n  margin: 0.2em;\n  border-radius: 0.25em;\n  color: var(--sklearn-color-text);\n  /* unfitted */\n  background-color: var(--sklearn-color-unfitted-level-0);\n}\n\n#sk-container-id-1 div.sk-toggleable__content.fitted pre {\n  /* unfitted */\n  background-color: var(--sklearn-color-fitted-level-0);\n}\n\n#sk-container-id-1 input.sk-toggleable__control:checked~div.sk-toggleable__content {\n  /* Expand drop-down */\n  max-height: 200px;\n  max-width: 100%;\n  overflow: auto;\n}\n\n#sk-container-id-1 input.sk-toggleable__control:checked~label.sk-toggleable__label-arrow:before {\n  content: \"▾\";\n}\n\n/* Pipeline/ColumnTransformer-specific style */\n\n#sk-container-id-1 div.sk-label input.sk-toggleable__control:checked~label.sk-toggleable__label {\n  color: var(--sklearn-color-text);\n  background-color: var(--sklearn-color-unfitted-level-2);\n}\n\n#sk-container-id-1 div.sk-label.fitted input.sk-toggleable__control:checked~label.sk-toggleable__label {\n  background-color: var(--sklearn-color-fitted-level-2);\n}\n\n/* Estimator-specific style */\n\n/* Colorize estimator box */\n#sk-container-id-1 div.sk-estimator input.sk-toggleable__control:checked~label.sk-toggleable__label {\n  /* unfitted */\n  background-color: var(--sklearn-color-unfitted-level-2);\n}\n\n#sk-container-id-1 div.sk-estimator.fitted input.sk-toggleable__control:checked~label.sk-toggleable__label {\n  /* fitted */\n  background-color: var(--sklearn-color-fitted-level-2);\n}\n\n#sk-container-id-1 div.sk-label label.sk-toggleable__label,\n#sk-container-id-1 div.sk-label label {\n  /* The background is the default theme color */\n  color: var(--sklearn-color-text-on-default-background);\n}\n\n/* On hover, darken the color of the background */\n#sk-container-id-1 div.sk-label:hover label.sk-toggleable__label {\n  color: var(--sklearn-color-text);\n  background-color: var(--sklearn-color-unfitted-level-2);\n}\n\n/* Label box, darken color on hover, fitted */\n#sk-container-id-1 div.sk-label.fitted:hover label.sk-toggleable__label.fitted {\n  color: var(--sklearn-color-text);\n  background-color: var(--sklearn-color-fitted-level-2);\n}\n\n/* Estimator label */\n\n#sk-container-id-1 div.sk-label label {\n  font-family: monospace;\n  font-weight: bold;\n  display: inline-block;\n  line-height: 1.2em;\n}\n\n#sk-container-id-1 div.sk-label-container {\n  text-align: center;\n}\n\n/* Estimator-specific */\n#sk-container-id-1 div.sk-estimator {\n  font-family: monospace;\n  border: 1px dotted var(--sklearn-color-border-box);\n  border-radius: 0.25em;\n  box-sizing: border-box;\n  margin-bottom: 0.5em;\n  /* unfitted */\n  background-color: var(--sklearn-color-unfitted-level-0);\n}\n\n#sk-container-id-1 div.sk-estimator.fitted {\n  /* fitted */\n  background-color: var(--sklearn-color-fitted-level-0);\n}\n\n/* on hover */\n#sk-container-id-1 div.sk-estimator:hover {\n  /* unfitted */\n  background-color: var(--sklearn-color-unfitted-level-2);\n}\n\n#sk-container-id-1 div.sk-estimator.fitted:hover {\n  /* fitted */\n  background-color: var(--sklearn-color-fitted-level-2);\n}\n\n/* Specification for estimator info (e.g. \"i\" and \"?\") */\n\n/* Common style for \"i\" and \"?\" */\n\n.sk-estimator-doc-link,\na:link.sk-estimator-doc-link,\na:visited.sk-estimator-doc-link {\n  float: right;\n  font-size: smaller;\n  line-height: 1em;\n  font-family: monospace;\n  background-color: var(--sklearn-color-background);\n  border-radius: 1em;\n  height: 1em;\n  width: 1em;\n  text-decoration: none !important;\n  margin-left: 1ex;\n  /* unfitted */\n  border: var(--sklearn-color-unfitted-level-1) 1pt solid;\n  color: var(--sklearn-color-unfitted-level-1);\n}\n\n.sk-estimator-doc-link.fitted,\na:link.sk-estimator-doc-link.fitted,\na:visited.sk-estimator-doc-link.fitted {\n  /* fitted */\n  border: var(--sklearn-color-fitted-level-1) 1pt solid;\n  color: var(--sklearn-color-fitted-level-1);\n}\n\n/* On hover */\ndiv.sk-estimator:hover .sk-estimator-doc-link:hover,\n.sk-estimator-doc-link:hover,\ndiv.sk-label-container:hover .sk-estimator-doc-link:hover,\n.sk-estimator-doc-link:hover {\n  /* unfitted */\n  background-color: var(--sklearn-color-unfitted-level-3);\n  color: var(--sklearn-color-background);\n  text-decoration: none;\n}\n\ndiv.sk-estimator.fitted:hover .sk-estimator-doc-link.fitted:hover,\n.sk-estimator-doc-link.fitted:hover,\ndiv.sk-label-container:hover .sk-estimator-doc-link.fitted:hover,\n.sk-estimator-doc-link.fitted:hover {\n  /* fitted */\n  background-color: var(--sklearn-color-fitted-level-3);\n  color: var(--sklearn-color-background);\n  text-decoration: none;\n}\n\n/* Span, style for the box shown on hovering the info icon */\n.sk-estimator-doc-link span {\n  display: none;\n  z-index: 9999;\n  position: relative;\n  font-weight: normal;\n  right: .2ex;\n  padding: .5ex;\n  margin: .5ex;\n  width: min-content;\n  min-width: 20ex;\n  max-width: 50ex;\n  color: var(--sklearn-color-text);\n  box-shadow: 2pt 2pt 4pt #999;\n  /* unfitted */\n  background: var(--sklearn-color-unfitted-level-0);\n  border: .5pt solid var(--sklearn-color-unfitted-level-3);\n}\n\n.sk-estimator-doc-link.fitted span {\n  /* fitted */\n  background: var(--sklearn-color-fitted-level-0);\n  border: var(--sklearn-color-fitted-level-3);\n}\n\n.sk-estimator-doc-link:hover span {\n  display: block;\n}\n\n/* \"?\"-specific style due to the `<a>` HTML tag */\n\n#sk-container-id-1 a.estimator_doc_link {\n  float: right;\n  font-size: 1rem;\n  line-height: 1em;\n  font-family: monospace;\n  background-color: var(--sklearn-color-background);\n  border-radius: 1rem;\n  height: 1rem;\n  width: 1rem;\n  text-decoration: none;\n  /* unfitted */\n  color: var(--sklearn-color-unfitted-level-1);\n  border: var(--sklearn-color-unfitted-level-1) 1pt solid;\n}\n\n#sk-container-id-1 a.estimator_doc_link.fitted {\n  /* fitted */\n  border: var(--sklearn-color-fitted-level-1) 1pt solid;\n  color: var(--sklearn-color-fitted-level-1);\n}\n\n/* On hover */\n#sk-container-id-1 a.estimator_doc_link:hover {\n  /* unfitted */\n  background-color: var(--sklearn-color-unfitted-level-3);\n  color: var(--sklearn-color-background);\n  text-decoration: none;\n}\n\n#sk-container-id-1 a.estimator_doc_link.fitted:hover {\n  /* fitted */\n  background-color: var(--sklearn-color-fitted-level-3);\n}\n</style><div id=\"sk-container-id-1\" class=\"sk-top-container\"><div class=\"sk-text-repr-fallback\"><pre>LinearRegression()</pre><b>In a Jupyter environment, please rerun this cell to show the HTML representation or trust the notebook. <br />On GitHub, the HTML representation is unable to render, please try loading this page with nbviewer.org.</b></div><div class=\"sk-container\" hidden><div class=\"sk-item\"><div class=\"sk-estimator fitted sk-toggleable\"><input class=\"sk-toggleable__control sk-hidden--visually\" id=\"sk-estimator-id-1\" type=\"checkbox\" checked><label for=\"sk-estimator-id-1\" class=\"sk-toggleable__label fitted sk-toggleable__label-arrow fitted\">&nbsp;&nbsp;LinearRegression<a class=\"sk-estimator-doc-link fitted\" rel=\"noreferrer\" target=\"_blank\" href=\"https://scikit-learn.org/1.4/modules/generated/sklearn.linear_model.LinearRegression.html\">?<span>Documentation for LinearRegression</span></a><span class=\"sk-estimator-doc-link fitted\">i<span>Fitted</span></span></label><div class=\"sk-toggleable__content fitted\"><pre>LinearRegression()</pre></div> </div></div></div></div>"
     },
     "execution_count": 199,
     "metadata": {},
     "output_type": "execute_result"
    }
   ],
   "source": [
    "# ahora importamos LinearRegression de sklearn para nuestros modelos\n",
    "# Importamos LinearRegression asi (pip install scikit-learn) \n",
    "from sklearn.linear_model import LinearRegression\n",
    "#definimos el tipo de modelo como LinearRegression\n",
    "modelo = LinearRegression()\n",
    "# ahora realizaremos el entrenamiento con la funcion fit para el modeloHombres\n",
    "modelo.fit(x,y)"
   ],
   "metadata": {
    "collapsed": false,
    "ExecuteTime": {
     "end_time": "2024-01-29T23:56:20.121915800Z",
     "start_time": "2024-01-29T23:56:20.041938Z"
    }
   },
   "id": "8322805c54d8d576",
   "execution_count": 199
  },
  {
   "cell_type": "code",
   "outputs": [
    {
     "data": {
      "text/plain": "    marcas  experiencia_cliente  talento_humano  innovación  \\\n0      2.0                  3.0             4.0         1.0   \n1      3.0                  1.0             2.0         4.0   \n2      1.0                  2.0             4.0         3.0   \n3      2.0                  1.0             3.0         4.0   \n4      2.0                  3.0             1.0         4.0   \n..     ...                  ...             ...         ...   \n64     1.0                  3.0             2.0         4.0   \n65     4.0                  1.0             3.0         2.0   \n66     3.0                  4.0             2.0         1.0   \n67     3.0                  4.0             2.0         1.0   \n68     2.0                  4.0             1.0         3.0   \n\n    calificacion_reultados  metodologia  satisfechosolucion  satisfechotiempo  \\\n0                        0            1                   2                 2   \n1                        2            2                   2                 2   \n2                        0            2                   2                 0   \n3                        3            0                   2                 0   \n4                        2            2                   2                 2   \n..                     ...          ...                 ...               ...   \n64                       1            1                   1                 1   \n65                       1            1                   1                 1   \n66                       2            2                   2                 3   \n67                       0            0                   2                 3   \n68                       3            3                   3                 3   \n\n    importancia_clientes  solucion_facil  conocimiento_personal  \\\n0                      2               2                      0   \n1                      2               2                      2   \n2                      0               3                      0   \n3                      0               2                      0   \n4                      0               2                      0   \n..                   ...             ...                    ...   \n64                     1               1                      1   \n65                     1               1                      1   \n66                     0               0                      0   \n67                     0               0                      2   \n68                     3               3                      3   \n\n    primera_opcion  nuevos_servicios  NPSPPD  NPS  \n0                2                 9       2   10  \n1                2                10       2   10  \n2                1                 8       1    7  \n3                1                 8       1    8  \n4                2                 9       2    9  \n..             ...               ...     ...  ...  \n64               0                 1       0    1  \n65               0                 4       0    3  \n66               2                 9       2    9  \n67               2                 9       2    9  \n68               1                 7       0    5  \n\n[69 rows x 15 columns]",
      "text/html": "<div>\n<style scoped>\n    .dataframe tbody tr th:only-of-type {\n        vertical-align: middle;\n    }\n\n    .dataframe tbody tr th {\n        vertical-align: top;\n    }\n\n    .dataframe thead th {\n        text-align: right;\n    }\n</style>\n<table border=\"1\" class=\"dataframe\">\n  <thead>\n    <tr style=\"text-align: right;\">\n      <th></th>\n      <th>marcas</th>\n      <th>experiencia_cliente</th>\n      <th>talento_humano</th>\n      <th>innovación</th>\n      <th>calificacion_reultados</th>\n      <th>metodologia</th>\n      <th>satisfechosolucion</th>\n      <th>satisfechotiempo</th>\n      <th>importancia_clientes</th>\n      <th>solucion_facil</th>\n      <th>conocimiento_personal</th>\n      <th>primera_opcion</th>\n      <th>nuevos_servicios</th>\n      <th>NPSPPD</th>\n      <th>NPS</th>\n    </tr>\n  </thead>\n  <tbody>\n    <tr>\n      <th>0</th>\n      <td>2.0</td>\n      <td>3.0</td>\n      <td>4.0</td>\n      <td>1.0</td>\n      <td>0</td>\n      <td>1</td>\n      <td>2</td>\n      <td>2</td>\n      <td>2</td>\n      <td>2</td>\n      <td>0</td>\n      <td>2</td>\n      <td>9</td>\n      <td>2</td>\n      <td>10</td>\n    </tr>\n    <tr>\n      <th>1</th>\n      <td>3.0</td>\n      <td>1.0</td>\n      <td>2.0</td>\n      <td>4.0</td>\n      <td>2</td>\n      <td>2</td>\n      <td>2</td>\n      <td>2</td>\n      <td>2</td>\n      <td>2</td>\n      <td>2</td>\n      <td>2</td>\n      <td>10</td>\n      <td>2</td>\n      <td>10</td>\n    </tr>\n    <tr>\n      <th>2</th>\n      <td>1.0</td>\n      <td>2.0</td>\n      <td>4.0</td>\n      <td>3.0</td>\n      <td>0</td>\n      <td>2</td>\n      <td>2</td>\n      <td>0</td>\n      <td>0</td>\n      <td>3</td>\n      <td>0</td>\n      <td>1</td>\n      <td>8</td>\n      <td>1</td>\n      <td>7</td>\n    </tr>\n    <tr>\n      <th>3</th>\n      <td>2.0</td>\n      <td>1.0</td>\n      <td>3.0</td>\n      <td>4.0</td>\n      <td>3</td>\n      <td>0</td>\n      <td>2</td>\n      <td>0</td>\n      <td>0</td>\n      <td>2</td>\n      <td>0</td>\n      <td>1</td>\n      <td>8</td>\n      <td>1</td>\n      <td>8</td>\n    </tr>\n    <tr>\n      <th>4</th>\n      <td>2.0</td>\n      <td>3.0</td>\n      <td>1.0</td>\n      <td>4.0</td>\n      <td>2</td>\n      <td>2</td>\n      <td>2</td>\n      <td>2</td>\n      <td>0</td>\n      <td>2</td>\n      <td>0</td>\n      <td>2</td>\n      <td>9</td>\n      <td>2</td>\n      <td>9</td>\n    </tr>\n    <tr>\n      <th>...</th>\n      <td>...</td>\n      <td>...</td>\n      <td>...</td>\n      <td>...</td>\n      <td>...</td>\n      <td>...</td>\n      <td>...</td>\n      <td>...</td>\n      <td>...</td>\n      <td>...</td>\n      <td>...</td>\n      <td>...</td>\n      <td>...</td>\n      <td>...</td>\n      <td>...</td>\n    </tr>\n    <tr>\n      <th>64</th>\n      <td>1.0</td>\n      <td>3.0</td>\n      <td>2.0</td>\n      <td>4.0</td>\n      <td>1</td>\n      <td>1</td>\n      <td>1</td>\n      <td>1</td>\n      <td>1</td>\n      <td>1</td>\n      <td>1</td>\n      <td>0</td>\n      <td>1</td>\n      <td>0</td>\n      <td>1</td>\n    </tr>\n    <tr>\n      <th>65</th>\n      <td>4.0</td>\n      <td>1.0</td>\n      <td>3.0</td>\n      <td>2.0</td>\n      <td>1</td>\n      <td>1</td>\n      <td>1</td>\n      <td>1</td>\n      <td>1</td>\n      <td>1</td>\n      <td>1</td>\n      <td>0</td>\n      <td>4</td>\n      <td>0</td>\n      <td>3</td>\n    </tr>\n    <tr>\n      <th>66</th>\n      <td>3.0</td>\n      <td>4.0</td>\n      <td>2.0</td>\n      <td>1.0</td>\n      <td>2</td>\n      <td>2</td>\n      <td>2</td>\n      <td>3</td>\n      <td>0</td>\n      <td>0</td>\n      <td>0</td>\n      <td>2</td>\n      <td>9</td>\n      <td>2</td>\n      <td>9</td>\n    </tr>\n    <tr>\n      <th>67</th>\n      <td>3.0</td>\n      <td>4.0</td>\n      <td>2.0</td>\n      <td>1.0</td>\n      <td>0</td>\n      <td>0</td>\n      <td>2</td>\n      <td>3</td>\n      <td>0</td>\n      <td>0</td>\n      <td>2</td>\n      <td>2</td>\n      <td>9</td>\n      <td>2</td>\n      <td>9</td>\n    </tr>\n    <tr>\n      <th>68</th>\n      <td>2.0</td>\n      <td>4.0</td>\n      <td>1.0</td>\n      <td>3.0</td>\n      <td>3</td>\n      <td>3</td>\n      <td>3</td>\n      <td>3</td>\n      <td>3</td>\n      <td>3</td>\n      <td>3</td>\n      <td>1</td>\n      <td>7</td>\n      <td>0</td>\n      <td>5</td>\n    </tr>\n  </tbody>\n</table>\n<p>69 rows × 15 columns</p>\n</div>"
     },
     "execution_count": 200,
     "metadata": {},
     "output_type": "execute_result"
    }
   ],
   "source": [
    "datos4"
   ],
   "metadata": {
    "collapsed": false,
    "ExecuteTime": {
     "end_time": "2024-01-29T23:57:14.372193200Z",
     "start_time": "2024-01-29T23:57:14.347187600Z"
    }
   },
   "id": "6f2e02dd6777109c",
   "execution_count": 200
  },
  {
   "cell_type": "code",
   "outputs": [
    {
     "name": "stderr",
     "output_type": "stream",
     "text": [
      "C:\\Users\\under\\OneDrive\\Escritorio\\emtelco\\Emtelco2\\pythonProject1\\.venv\\lib\\site-packages\\sklearn\\base.py:493: UserWarning: X does not have valid feature names, but LinearRegression was fitted with feature names\n",
      "  warnings.warn(\n"
     ]
    },
    {
     "data": {
      "text/plain": "array([9.47134033])"
     },
     "execution_count": 201,
     "metadata": {},
     "output_type": "execute_result"
    }
   ],
   "source": [
    "#Revisamos nuestro modeloHombres para verificar que este entrenado.\n",
    "modelo.predict([[2,3,4,1,0,1,2,2,2,2,0,2,9,2]])"
   ],
   "metadata": {
    "collapsed": false,
    "ExecuteTime": {
     "end_time": "2024-01-30T00:00:03.966146500Z",
     "start_time": "2024-01-30T00:00:03.953681900Z"
    }
   },
   "id": "afb246423c7836c1",
   "execution_count": 201
  }
 ],
 "metadata": {
  "kernelspec": {
   "display_name": "Python 3",
   "language": "python",
   "name": "python3"
  },
  "language_info": {
   "codemirror_mode": {
    "name": "ipython",
    "version": 2
   },
   "file_extension": ".py",
   "mimetype": "text/x-python",
   "name": "python",
   "nbconvert_exporter": "python",
   "pygments_lexer": "ipython2",
   "version": "2.7.6"
  }
 },
 "nbformat": 4,
 "nbformat_minor": 5
}
